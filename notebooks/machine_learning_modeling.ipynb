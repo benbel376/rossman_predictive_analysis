{
 "cells": [
  {
   "cell_type": "code",
   "execution_count": 8,
   "metadata": {},
   "outputs": [],
   "source": [
    "from sklearn.pipeline import Pipeline\n",
    "from sklearn.preprocessing import FunctionTransformer\n",
    "from sklearn.ensemble import RandomForestRegressor\n",
    "\n",
    "import matplotlib.pyplot as plt\n",
    "import seaborn as sns\n",
    "from datetime import datetime\n",
    "\n",
    "\n",
    "import pandas as pd\n",
    "import numpy as np\n",
    "import warnings\n",
    "import sys\n",
    "import pickle"
   ]
  },
  {
   "cell_type": "code",
   "execution_count": 9,
   "metadata": {},
   "outputs": [],
   "source": [
    "# suppressing warning messages\n",
    "\n",
    "warnings.filterwarnings('ignore')"
   ]
  },
  {
   "cell_type": "code",
   "execution_count": 10,
   "metadata": {},
   "outputs": [],
   "source": [
    "# importing scripts\n",
    "\n",
    "sys.path.insert(1, '../scripts')\n",
    "\n",
    "from data_viz import Data_Viz\n",
    "from data_cleaning import DataCleaner\n",
    "from data_transformation import DataTransformer\n",
    "\n",
    "DV = Data_Viz(\"../logs/data_model_notebook.log\")\n",
    "DC = DataCleaner(\"../logs/data_model_notebook.log\")\n",
    "DT = DataTransformer(\"../logs/data_model_notebook.log\")"
   ]
  },
  {
   "cell_type": "code",
   "execution_count": 11,
   "metadata": {},
   "outputs": [],
   "source": [
    "# importing the data\n",
    "\n",
    "train = pd.read_csv(\"../data/train_store.csv\")"
   ]
  },
  {
   "cell_type": "code",
   "execution_count": 12,
   "metadata": {},
   "outputs": [
    {
     "name": "stdout",
     "output_type": "stream",
     "text": [
      "<class 'pandas.core.frame.DataFrame'>\n",
      "RangeIndex: 1017209 entries, 0 to 1017208\n",
      "Data columns (total 23 columns):\n",
      " #   Column               Non-Null Count    Dtype  \n",
      "---  ------               --------------    -----  \n",
      " 0   Sales                1017209 non-null  float64\n",
      " 1   Store                1017209 non-null  int64  \n",
      " 2   DayOfWeek            1017209 non-null  int64  \n",
      " 3   Date                 1017209 non-null  object \n",
      " 4   Open                 1017209 non-null  int64  \n",
      " 5   Promo                1017209 non-null  int64  \n",
      " 6   StateHoliday         1017209 non-null  object \n",
      " 7   SchoolHoliday        1017209 non-null  int64  \n",
      " 8   StoreType            1017209 non-null  object \n",
      " 9   Assortment           1017209 non-null  object \n",
      " 10  CompetitionDistance  1017209 non-null  float64\n",
      " 11  Promo2               1017209 non-null  int64  \n",
      " 12  Promo2SinceWeek      1017209 non-null  float64\n",
      " 13  Promo2SinceYear      1017209 non-null  float64\n",
      " 14  PromoInterval        1017209 non-null  object \n",
      " 15  Year                 1017209 non-null  int64  \n",
      " 16  Month                1017209 non-null  int64  \n",
      " 17  DayOfMonth           1017209 non-null  int64  \n",
      " 18  WeekOfYear           1017209 non-null  int64  \n",
      " 19  weekday              1017209 non-null  int64  \n",
      " 20  MonthPeriod          1017209 non-null  int64  \n",
      " 21  Holiday              1017209 non-null  int64  \n",
      " 22  YearlyTerm           1017209 non-null  int64  \n",
      "dtypes: float64(4), int64(14), object(5)\n",
      "memory usage: 178.5+ MB\n"
     ]
    }
   ],
   "source": [
    "# selecting out some features\n",
    "\n",
    "train_cl = train.drop([\"Customers\"], axis=1)\n",
    "sales = train_cl.pop(\"Sales\")\n",
    "train_cl.insert(0,\"Sales\", sales)\n",
    "train_cl.info()\n"
   ]
  },
  {
   "cell_type": "code",
   "execution_count": 13,
   "metadata": {},
   "outputs": [
    {
     "data": {
      "text/html": [
       "<div>\n",
       "<style scoped>\n",
       "    .dataframe tbody tr th:only-of-type {\n",
       "        vertical-align: middle;\n",
       "    }\n",
       "\n",
       "    .dataframe tbody tr th {\n",
       "        vertical-align: top;\n",
       "    }\n",
       "\n",
       "    .dataframe thead th {\n",
       "        text-align: right;\n",
       "    }\n",
       "</style>\n",
       "<table border=\"1\" class=\"dataframe\">\n",
       "  <thead>\n",
       "    <tr style=\"text-align: right;\">\n",
       "      <th></th>\n",
       "      <th>Date</th>\n",
       "      <th>StateHoliday</th>\n",
       "      <th>StoreType</th>\n",
       "      <th>Assortment</th>\n",
       "      <th>PromoInterval</th>\n",
       "    </tr>\n",
       "  </thead>\n",
       "  <tbody>\n",
       "    <tr>\n",
       "      <th>0</th>\n",
       "      <td>2015-07-31</td>\n",
       "      <td>No Holiday</td>\n",
       "      <td>c</td>\n",
       "      <td>a</td>\n",
       "      <td>Not_Av</td>\n",
       "    </tr>\n",
       "    <tr>\n",
       "      <th>1</th>\n",
       "      <td>2015-07-31</td>\n",
       "      <td>No Holiday</td>\n",
       "      <td>a</td>\n",
       "      <td>a</td>\n",
       "      <td>Jan,Apr,Jul,Oct</td>\n",
       "    </tr>\n",
       "    <tr>\n",
       "      <th>2</th>\n",
       "      <td>2015-07-31</td>\n",
       "      <td>No Holiday</td>\n",
       "      <td>a</td>\n",
       "      <td>a</td>\n",
       "      <td>Jan,Apr,Jul,Oct</td>\n",
       "    </tr>\n",
       "    <tr>\n",
       "      <th>3</th>\n",
       "      <td>2015-07-31</td>\n",
       "      <td>No Holiday</td>\n",
       "      <td>c</td>\n",
       "      <td>c</td>\n",
       "      <td>Not_Av</td>\n",
       "    </tr>\n",
       "    <tr>\n",
       "      <th>4</th>\n",
       "      <td>2015-07-31</td>\n",
       "      <td>No Holiday</td>\n",
       "      <td>a</td>\n",
       "      <td>a</td>\n",
       "      <td>Not_Av</td>\n",
       "    </tr>\n",
       "  </tbody>\n",
       "</table>\n",
       "</div>"
      ],
      "text/plain": [
       "         Date StateHoliday StoreType Assortment    PromoInterval\n",
       "0  2015-07-31   No Holiday         c          a           Not_Av\n",
       "1  2015-07-31   No Holiday         a          a  Jan,Apr,Jul,Oct\n",
       "2  2015-07-31   No Holiday         a          a  Jan,Apr,Jul,Oct\n",
       "3  2015-07-31   No Holiday         c          c           Not_Av\n",
       "4  2015-07-31   No Holiday         a          a           Not_Av"
      ]
     },
     "execution_count": 13,
     "metadata": {},
     "output_type": "execute_result"
    }
   ],
   "source": [
    "# separating numerical and categorical variables\n",
    "\n",
    "categorical_lis, numerical_lis = DT.sep_cat_num(train_cl)\n",
    "categorical_lis.head()"
   ]
  },
  {
   "cell_type": "code",
   "execution_count": 14,
   "metadata": {},
   "outputs": [
    {
     "name": "stdout",
     "output_type": "stream",
     "text": [
      "catagories successfully labeled\n",
      "Data successfully scaled\n",
      "target and features separated\n",
      "data successfully splitted\n"
     ]
    }
   ],
   "source": [
    "# setup pipeline\n",
    "\n",
    "sampled_train_cl = train_cl.sample(n=100000)\n",
    "sets = DT.build_pipe(categorical_lis.columns.to_list()).fit_transform(sampled_train_cl)"
   ]
  },
  {
   "cell_type": "code",
   "execution_count": 15,
   "metadata": {},
   "outputs": [
    {
     "data": {
      "text/plain": [
       "RandomForestRegressor(random_state=0)"
      ]
     },
     "execution_count": 15,
     "metadata": {},
     "output_type": "execute_result"
    }
   ],
   "source": [
    "# fitting data using Random Forest Regressor\n",
    "\n",
    "model = RandomForestRegressor(n_estimators = 100, random_state = 0)\n",
    " \n",
    "# fit the regressor with x and y data\n",
    "model.fit(sets[0], sets[1]) "
   ]
  },
  {
   "cell_type": "markdown",
   "metadata": {},
   "source": [
    "### Loss functions\n",
    "\n",
    "- MAE = Mean Absolute Eror. this is robhust when outliers are present in the data. \n",
    "- MSE = Mean Squared Eror. This function penalizes large errors and it is easiy to calculate gradients.\n",
    "\n",
    "Since there are no outliers in the data, MSE is chosen.\n",
    "\n"
   ]
  },
  {
   "cell_type": "code",
   "execution_count": 16,
   "metadata": {},
   "outputs": [
    {
     "name": "stdout",
     "output_type": "stream",
     "text": [
      "prediction accuracy:  0.8801434347310003\n"
     ]
    }
   ],
   "source": [
    "# checking accuracy\n",
    "\n",
    "accuracy = model.score(sets[2], sets[3])\n",
    "print(\"prediction accuracy: \", accuracy)"
   ]
  },
  {
   "cell_type": "markdown",
   "metadata": {},
   "source": [
    "### calculating feature importance"
   ]
  },
  {
   "cell_type": "code",
   "execution_count": 38,
   "metadata": {},
   "outputs": [
    {
     "data": {
      "image/png": "[encoded data removed]",
      "text/plain": [
       "<Figure size 1152x360 with 1 Axes>"
      ]
     },
     "metadata": {
      "needs_background": "light"
     },
     "output_type": "display_data"
    }
   ],
   "source": [
    "#features, target= DT.target_feature(train_cl, 0)\n",
    "\n",
    "imp_dict = DV.get_importance(model, train_cl)\n",
    "features = list(imp_dict.keys())\n",
    "importance = list(imp_dict.values())\n",
    "plt.figure(figsize=(16,5))\n",
    "pal = sns.color_palette(\"flare\", as_cmap=True)\n",
    "ax = sns.barplot(features, importance, color=\"darkgreen\")\n",
    "ax.invert_xaxis()\n",
    "locs, labels = plt.xticks()\n",
    "plt.setp(labels, rotation=45)\n",
    "plt.show()"
   ]
  },
  {
   "cell_type": "code",
   "execution_count": 19,
   "metadata": {},
   "outputs": [
    {
     "ename": "IndexError",
     "evalue": "list index out of range",
     "output_type": "error",
     "traceback": [
      "\u001b[1;31m---------------------------------------------------------------------------\u001b[0m",
      "\u001b[1;31mIndexError\u001b[0m                                Traceback (most recent call last)",
      "\u001b[1;32mc:\\Users\\IRONMAN\\10\\10x\\rossman_predictive_analysis\\notebooks\\machine_learning_modeling.ipynb Cell 14'\u001b[0m in \u001b[0;36m<cell line: 2>\u001b[1;34m()\u001b[0m\n\u001b[0;32m      <a href='vscode-notebook-cell:/c%3A/Users/IRONMAN/10/10x/rossman_predictive_analysis/notebooks/machine_learning_modeling.ipynb#ch0000017?line=0'>1</a>\u001b[0m loaded_model \u001b[39m=\u001b[39m pickle\u001b[39m.\u001b[39mload(\u001b[39mopen\u001b[39m(filename, \u001b[39m'\u001b[39m\u001b[39mrb\u001b[39m\u001b[39m'\u001b[39m))\n\u001b[1;32m----> <a href='vscode-notebook-cell:/c%3A/Users/IRONMAN/10/10x/rossman_predictive_analysis/notebooks/machine_learning_modeling.ipynb#ch0000017?line=1'>2</a>\u001b[0m result \u001b[39m=\u001b[39m loaded_model\u001b[39m.\u001b[39mscore(sets[\u001b[39m4\u001b[39;49m], sets[\u001b[39m5\u001b[39m])\n\u001b[0;32m      <a href='vscode-notebook-cell:/c%3A/Users/IRONMAN/10/10x/rossman_predictive_analysis/notebooks/machine_learning_modeling.ipynb#ch0000017?line=2'>3</a>\u001b[0m \u001b[39mprint\u001b[39m(result)\n",
      "\u001b[1;31mIndexError\u001b[0m: list index out of range"
     ]
    }
   ],
   "source": [
    "loaded_model = pickle.load(open(filename, 'rb'))\n",
    "result = loaded_model.score(sets[4], sets[5])\n",
    "print(result)"
   ]
  },
  {
   "cell_type": "markdown",
   "metadata": {},
   "source": [
    "## reducing number of features"
   ]
  },
  {
   "cell_type": "code",
   "execution_count": 41,
   "metadata": {},
   "outputs": [
    {
     "name": "stdout",
     "output_type": "stream",
     "text": [
      "<class 'pandas.core.frame.DataFrame'>\n",
      "RangeIndex: 1017209 entries, 0 to 1017208\n",
      "Data columns (total 12 columns):\n",
      " #   Column               Non-Null Count    Dtype  \n",
      "---  ------               --------------    -----  \n",
      " 0   Sales                1017209 non-null  float64\n",
      " 1   Month                1017209 non-null  int64  \n",
      " 2   PromoInterval        1017209 non-null  object \n",
      " 3   Assortment           1017209 non-null  object \n",
      " 4   StoreType            1017209 non-null  object \n",
      " 5   WeekOfYear           1017209 non-null  int64  \n",
      " 6   DayOfWeek            1017209 non-null  int64  \n",
      " 7   DayOfMonth           1017209 non-null  int64  \n",
      " 8   Promo                1017209 non-null  int64  \n",
      " 9   Store                1017209 non-null  int64  \n",
      " 10  CompetitionDistance  1017209 non-null  float64\n",
      " 11  Open                 1017209 non-null  int64  \n",
      "dtypes: float64(2), int64(7), object(3)\n",
      "memory usage: 93.1+ MB\n"
     ]
    }
   ],
   "source": [
    "## Removing irrelevant features and cusomer\n",
    "include_list = [\"Sales\", 'Month', 'PromoInterval', 'Assortment', 'StoreType','WeekOfYear', 'DayOfWeek', 'DayOfMonth', 'Promo', 'Store', 'CompetitionDistance', 'Open']\n",
    "train_2 = train_cl[include_list]\n",
    "train_2.info()"
   ]
  },
  {
   "cell_type": "code",
   "execution_count": 42,
   "metadata": {},
   "outputs": [
    {
     "name": "stdout",
     "output_type": "stream",
     "text": [
      "catagories successfully labeled\n",
      "Data successfully scaled\n",
      "target and features separated\n",
      "data successfully splitted\n",
      "prediction accuracy:  0.8769984865067956\n"
     ]
    }
   ],
   "source": [
    "# separating numerical and categorical variables\n",
    "\n",
    "categorical_lis2, numerical_lis2 = DT.sep_cat_num(train_2)\n",
    "\n",
    "sampled_train_cl2 = train_2.sample(n=100000)\n",
    "sets2 = DT.build_pipe(categorical_lis2.columns.to_list()).fit_transform(sampled_train_cl2)\n",
    "\n",
    "# fitting data using Random Forest Regressor\n",
    "model2 = RandomForestRegressor(n_estimators = 100, random_state = 0)\n",
    " \n",
    "# fit the regressor with x and y data\n",
    "model2.fit(sets2[0], sets2[1])\n",
    "\n",
    "# checking accuracy\n",
    "accuracy2 = model2.score(sets2[2], sets2[3])\n",
    "print(\"prediction accuracy: \", accuracy2)\n"
   ]
  },
  {
   "cell_type": "code",
   "execution_count": 43,
   "metadata": {},
   "outputs": [
    {
     "data": {
      "image/png": "[encoded data removed]",
      "text/plain": [
       "<Figure size 1152x360 with 1 Axes>"
      ]
     },
     "metadata": {
      "needs_background": "light"
     },
     "output_type": "display_data"
    }
   ],
   "source": [
    "#features, target= DT.target_feature(train_cl, 0)\n",
    "imp_dict = DV.get_importance(model2, train_2)\n",
    "features = list(imp_dict.keys())\n",
    "importance = list(imp_dict.values())\n",
    "plt.figure(figsize=(16,5))\n",
    "pal = sns.color_palette(\"flare\", as_cmap=True)\n",
    "ax = sns.barplot(features, importance, color=\"darkgreen\")\n",
    "ax.invert_xaxis()\n",
    "locs, labels = plt.xticks()\n",
    "plt.setp(labels, rotation=45)\n",
    "plt.show()"
   ]
  },
  {
   "cell_type": "code",
   "execution_count": 40,
   "metadata": {},
   "outputs": [],
   "source": [
    "# datetime object containing current date and time\n",
    "now = datetime.now()\n",
    "time = now.strftime(\"%d-%m-%Y-%H-%M-%S\")\n",
    "filename = \"../models/RFR-sales-\"+str(time)+'.pkl'\n",
    "pickle.dump(model2, open(filename, 'wb'))"
   ]
  },
  {
   "cell_type": "code",
   "execution_count": null,
   "metadata": {},
   "outputs": [],
   "source": [
    "## Predicting number of customers\n"
   ]
  }
 ],
 "metadata": {
  "interpreter": {
   "hash": "2b997b5b8794c030e25a28be498e8226ee8897df85ede9190db777bdc9cc75be"
  },
  "kernelspec": {
   "display_name": "Python 3.9.7 ('base')",
   "language": "python",
   "name": "python3"
  },
  "language_info": {
   "codemirror_mode": {
    "name": "ipython",
    "version": 3
   },
   "file_extension": ".py",
   "mimetype": "text/x-python",
   "name": "python",
   "nbconvert_exporter": "python",
   "pygments_lexer": "ipython3",
   "version": "3.9.7"
  },
  "orig_nbformat": 4
 },
 "nbformat": 4,
 "nbformat_minor": 2
}
