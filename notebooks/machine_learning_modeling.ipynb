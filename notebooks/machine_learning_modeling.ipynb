{
 "cells": [
  {
   "cell_type": "code",
   "execution_count": 16,
   "metadata": {},
   "outputs": [],
   "source": [
    "from sklearn.pipeline import Pipeline\n",
    "from sklearn.preprocessing import FunctionTransformer\n",
    "from sklearn.ensemble import RandomForestRegressor\n",
    "\n",
    "import matplotlib.pyplot as plt\n",
    "import seaborn as sns\n",
    "from datetime import datetime\n",
    "\n",
    "\n",
    "import pandas as pd\n",
    "import numpy as np\n",
    "import warnings\n",
    "import sys\n",
    "import pickle"
   ]
  },
  {
   "cell_type": "code",
   "execution_count": 17,
   "metadata": {},
   "outputs": [],
   "source": [
    "# suppressing warning messages\n",
    "\n",
    "warnings.filterwarnings('ignore')"
   ]
  },
  {
   "cell_type": "code",
   "execution_count": 18,
   "metadata": {},
   "outputs": [],
   "source": [
    "# importing scripts\n",
    "\n",
    "sys.path.insert(1, '../scripts')\n",
    "\n",
    "from data_viz import Data_Viz\n",
    "from data_cleaning import DataCleaner\n",
    "from data_transformation import DataTransformer\n",
    "\n",
    "DV = Data_Viz(\"../logs/data_model_notebook.log\")\n",
    "DC = DataCleaner(\"../logs/data_model_notebook.log\")\n",
    "DT = DataTransformer(\"../logs/data_model_notebook.log\")"
   ]
  },
  {
   "cell_type": "code",
   "execution_count": 19,
   "metadata": {},
   "outputs": [],
   "source": [
    "# importing the data\n",
    "\n",
    "train = pd.read_csv(\"../data/train_store.csv\")"
   ]
  },
  {
   "cell_type": "code",
   "execution_count": 21,
   "metadata": {},
   "outputs": [
    {
     "name": "stdout",
     "output_type": "stream",
     "text": [
      "<class 'pandas.core.frame.DataFrame'>\n",
      "RangeIndex: 1017209 entries, 0 to 1017208\n",
      "Data columns (total 24 columns):\n",
      " #   Column               Non-Null Count    Dtype  \n",
      "---  ------               --------------    -----  \n",
      " 0   Sales                1017209 non-null  float64\n",
      " 1   Store                1017209 non-null  int64  \n",
      " 2   DayOfWeek            1017209 non-null  int64  \n",
      " 3   Date                 1017209 non-null  object \n",
      " 4   Customers            1017209 non-null  float64\n",
      " 5   Open                 1017209 non-null  int64  \n",
      " 6   Promo                1017209 non-null  int64  \n",
      " 7   StateHoliday         1017209 non-null  object \n",
      " 8   SchoolHoliday        1017209 non-null  int64  \n",
      " 9   StoreType            1017209 non-null  object \n",
      " 10  Assortment           1017209 non-null  object \n",
      " 11  CompetitionDistance  1017209 non-null  float64\n",
      " 12  Promo2               1017209 non-null  int64  \n",
      " 13  Promo2SinceWeek      1017209 non-null  float64\n",
      " 14  Promo2SinceYear      1017209 non-null  float64\n",
      " 15  PromoInterval        1017209 non-null  object \n",
      " 16  Year                 1017209 non-null  int64  \n",
      " 17  Month                1017209 non-null  int64  \n",
      " 18  DayOfMonth           1017209 non-null  int64  \n",
      " 19  WeekOfYear           1017209 non-null  int64  \n",
      " 20  weekday              1017209 non-null  int64  \n",
      " 21  MonthPeriod          1017209 non-null  int64  \n",
      " 22  Holiday              1017209 non-null  int64  \n",
      " 23  YearlyTerm           1017209 non-null  int64  \n",
      "dtypes: float64(5), int64(14), object(5)\n",
      "memory usage: 186.3+ MB\n"
     ]
    }
   ],
   "source": [
    "# selecting out some features\n",
    "\n",
    "deselect_list = [\"Store\", \"Date\", \"PromoInterval\", \"Promo2\", \"Promo2SinceYear\", \"Promo2SinceWeek\"]\n",
    "train_cl = train.copy()\n",
    "sales = train_cl.pop(\"Sales\")\n",
    "train_cl.insert(0,\"Sales\", sales)\n",
    "train_cl.info()\n"
   ]
  },
  {
   "cell_type": "code",
   "execution_count": 22,
   "metadata": {},
   "outputs": [
    {
     "data": {
      "text/html": [
       "<div>\n",
       "<style scoped>\n",
       "    .dataframe tbody tr th:only-of-type {\n",
       "        vertical-align: middle;\n",
       "    }\n",
       "\n",
       "    .dataframe tbody tr th {\n",
       "        vertical-align: top;\n",
       "    }\n",
       "\n",
       "    .dataframe thead th {\n",
       "        text-align: right;\n",
       "    }\n",
       "</style>\n",
       "<table border=\"1\" class=\"dataframe\">\n",
       "  <thead>\n",
       "    <tr style=\"text-align: right;\">\n",
       "      <th></th>\n",
       "      <th>Date</th>\n",
       "      <th>StateHoliday</th>\n",
       "      <th>StoreType</th>\n",
       "      <th>Assortment</th>\n",
       "      <th>PromoInterval</th>\n",
       "    </tr>\n",
       "  </thead>\n",
       "  <tbody>\n",
       "    <tr>\n",
       "      <th>0</th>\n",
       "      <td>2015-07-31</td>\n",
       "      <td>No Holiday</td>\n",
       "      <td>c</td>\n",
       "      <td>a</td>\n",
       "      <td>Not_Av</td>\n",
       "    </tr>\n",
       "    <tr>\n",
       "      <th>1</th>\n",
       "      <td>2015-07-31</td>\n",
       "      <td>No Holiday</td>\n",
       "      <td>a</td>\n",
       "      <td>a</td>\n",
       "      <td>Jan,Apr,Jul,Oct</td>\n",
       "    </tr>\n",
       "    <tr>\n",
       "      <th>2</th>\n",
       "      <td>2015-07-31</td>\n",
       "      <td>No Holiday</td>\n",
       "      <td>a</td>\n",
       "      <td>a</td>\n",
       "      <td>Jan,Apr,Jul,Oct</td>\n",
       "    </tr>\n",
       "    <tr>\n",
       "      <th>3</th>\n",
       "      <td>2015-07-31</td>\n",
       "      <td>No Holiday</td>\n",
       "      <td>c</td>\n",
       "      <td>c</td>\n",
       "      <td>Not_Av</td>\n",
       "    </tr>\n",
       "    <tr>\n",
       "      <th>4</th>\n",
       "      <td>2015-07-31</td>\n",
       "      <td>No Holiday</td>\n",
       "      <td>a</td>\n",
       "      <td>a</td>\n",
       "      <td>Not_Av</td>\n",
       "    </tr>\n",
       "  </tbody>\n",
       "</table>\n",
       "</div>"
      ],
      "text/plain": [
       "         Date StateHoliday StoreType Assortment    PromoInterval\n",
       "0  2015-07-31   No Holiday         c          a           Not_Av\n",
       "1  2015-07-31   No Holiday         a          a  Jan,Apr,Jul,Oct\n",
       "2  2015-07-31   No Holiday         a          a  Jan,Apr,Jul,Oct\n",
       "3  2015-07-31   No Holiday         c          c           Not_Av\n",
       "4  2015-07-31   No Holiday         a          a           Not_Av"
      ]
     },
     "execution_count": 22,
     "metadata": {},
     "output_type": "execute_result"
    }
   ],
   "source": [
    "# separating numerical and categorical variables\n",
    "\n",
    "categorical_lis, numerical_lis = DT.sep_cat_num(train_cl)\n",
    "categorical_lis.head()"
   ]
  },
  {
   "cell_type": "code",
   "execution_count": 26,
   "metadata": {},
   "outputs": [
    {
     "name": "stdout",
     "output_type": "stream",
     "text": [
      "catagories successfully labeled\n",
      "Data successfully scaled\n",
      "target and features separated\n",
      "data successfully splitted\n"
     ]
    }
   ],
   "source": [
    "# setup pipeline\n",
    "# cat-num conversion\n",
    "# scaling\n",
    "# splitting\n",
    "# algorithm\n",
    "\n",
    "pipe = Pipeline(steps = [\n",
    "                        (\"labeling\", FunctionTransformer(DT.cat_labeler, kw_args={\"cat_cols\": categorical_lis.columns.to_list()})),\n",
    "                        (\"scaling\", FunctionTransformer(DT.scaler)), \n",
    "                        (\"target\", FunctionTransformer(DT.target_feature, kw_args={\"t\":0})),\n",
    "                        (\"split\", FunctionTransformer(DT.set_splitter, kw_args={\"test\": 0.1, \"val\":0, \"rand_state\":8}))\n",
    "                        ])\n",
    "\n",
    "sampled_train_cl = train_cl.sample(n=100000)\n",
    "sets = pipe.fit_transform(sampled_train_cl)"
   ]
  },
  {
   "cell_type": "code",
   "execution_count": 27,
   "metadata": {},
   "outputs": [
    {
     "data": {
      "text/plain": [
       "RandomForestRegressor(random_state=0)"
      ]
     },
     "execution_count": 27,
     "metadata": {},
     "output_type": "execute_result"
    }
   ],
   "source": [
    "# fitting data using Random Forest Regressor\n",
    "\n",
    "regressor = RandomForestRegressor(n_estimators = 100, random_state = 0)\n",
    " \n",
    "# fit the regressor with x and y data\n",
    "regressor.fit(sets[0], sets[1]) "
   ]
  },
  {
   "cell_type": "markdown",
   "metadata": {},
   "source": [
    "### Loss functions\n",
    "\n",
    "- MAE = Mean Absolute Eror. this is robhust when outliers are present in the data. \n",
    "- MSE = Mean Squared Eror. This function penalizes large errors and it is easiy to calculate gradients.\n",
    "\n",
    "Since there are no outliers in the data, MSE is chosen.\n",
    "\n"
   ]
  },
  {
   "cell_type": "code",
   "execution_count": 28,
   "metadata": {},
   "outputs": [
    {
     "data": {
      "text/plain": [
       "0.9272239109563598"
      ]
     },
     "execution_count": 28,
     "metadata": {},
     "output_type": "execute_result"
    }
   ],
   "source": [
    "# predicting data\n",
    "Y_pred = regressor.score(sets[2], sets[3])\n",
    "Y_pred"
   ]
  },
  {
   "cell_type": "markdown",
   "metadata": {},
   "source": [
    "### calculating feature importance"
   ]
  },
  {
   "cell_type": "code",
   "execution_count": 33,
   "metadata": {},
   "outputs": [
    {
     "data": {
      "text/plain": [
       "<BarContainer object of 23 artists>"
      ]
     },
     "execution_count": 33,
     "metadata": {},
     "output_type": "execute_result"
    },
    {
     "data": {
      "image/png": "[encoded data removed]",
      "text/plain": [
       "<Figure size 720x720 with 1 Axes>"
      ]
     },
     "metadata": {
      "needs_background": "light"
     },
     "output_type": "display_data"
    }
   ],
   "source": [
    "#features, target= DT.target_feature(train_cl, 0)\n",
    "features = train_cl.drop(train_cl.columns[[0]], axis=1).columns.to_list()\n",
    "plt.figure(figsize=(10,10))\n",
    "plt.barh(features, regressor.feature_importances_)"
   ]
  },
  {
   "cell_type": "code",
   "execution_count": 34,
   "metadata": {},
   "outputs": [],
   "source": [
    "# datetime object containing current date and time\n",
    "now = datetime.now()\n",
    "time = now.strftime(\"%Y-%m-%d-%H-%M-%S\")\n",
    "filename = \"../models/\"+str(time)+'.pkl'\n",
    "pickle.dump(regressor, open(filename, 'wb'))"
   ]
  },
  {
   "cell_type": "code",
   "execution_count": 35,
   "metadata": {},
   "outputs": [
    {
     "name": "stdout",
     "output_type": "stream",
     "text": [
      "0.925357725568856\n"
     ]
    }
   ],
   "source": [
    "loaded_model = pickle.load(open(filename, 'rb'))\n",
    "result = loaded_model.score(sets[4], sets[5])\n",
    "print(result)"
   ]
  },
  {
   "cell_type": "code",
   "execution_count": null,
   "metadata": {},
   "outputs": [],
   "source": []
  }
 ],
 "metadata": {
  "interpreter": {
   "hash": "2b997b5b8794c030e25a28be498e8226ee8897df85ede9190db777bdc9cc75be"
  },
  "kernelspec": {
   "display_name": "Python 3.9.7 ('base')",
   "language": "python",
   "name": "python3"
  },
  "language_info": {
   "codemirror_mode": {
    "name": "ipython",
    "version": 3
   },
   "file_extension": ".py",
   "mimetype": "text/x-python",
   "name": "python",
   "nbconvert_exporter": "python",
   "pygments_lexer": "ipython3",
   "version": "3.9.7"
  },
  "orig_nbformat": 4
 },
 "nbformat": 4,
 "nbformat_minor": 2
}
