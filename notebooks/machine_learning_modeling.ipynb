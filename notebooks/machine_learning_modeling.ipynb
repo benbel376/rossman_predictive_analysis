{
 "cells": [
  {
   "cell_type": "code",
   "execution_count": 2,
   "metadata": {},
   "outputs": [],
   "source": [
    "from sklearn.pipeline import Pipeline\n",
    "from sklearn.preprocessing import FunctionTransformer\n",
    "from sklearn.ensemble import RandomForestRegressor\n",
    "from sklearn.model_selection import RandomizedSearchCV\n",
    "from sklearn.model_selection import GridSearchCV\n",
    "\n",
    "from sklearn.metrics import mean_squared_error\n",
    "\n",
    "from hyperopt import fmin, tpe, hp, SparkTrials, Trials, STATUS_OK\n",
    "import matplotlib.pyplot as plt\n",
    "import seaborn as sns\n",
    "from datetime import datetime\n",
    "import mlflow\n",
    "\n",
    "import pandas as pd\n",
    "import numpy as np\n",
    "import warnings\n",
    "import sys\n",
    "import pickle"
   ]
  },
  {
   "cell_type": "code",
   "execution_count": 3,
   "metadata": {},
   "outputs": [],
   "source": [
    "# suppressing warning messages\n",
    "\n",
    "warnings.filterwarnings('ignore')"
   ]
  },
  {
   "cell_type": "code",
   "execution_count": 4,
   "metadata": {},
   "outputs": [],
   "source": [
    "# importing scripts\n",
    "\n",
    "sys.path.insert(1, '../scripts')\n",
    "\n",
    "from data_viz import Data_Viz\n",
    "from data_cleaning import DataCleaner\n",
    "from data_transformation import DataTransformer\n",
    "\n",
    "DV = Data_Viz(\"../logs/data_model_notebook.log\")\n",
    "DC = DataCleaner(\"../logs/data_model_notebook.log\")\n",
    "DT = DataTransformer(\"../logs/data_model_notebook.log\")"
   ]
  },
  {
   "cell_type": "code",
   "execution_count": 5,
   "metadata": {},
   "outputs": [],
   "source": [
    "# importing the data\n",
    "\n",
    "train = pd.read_csv(\"../data/train_store.csv\")"
   ]
  },
  {
   "cell_type": "code",
   "execution_count": 6,
   "metadata": {},
   "outputs": [
    {
     "data": {
      "text/html": [
       "<div>\n",
       "<style scoped>\n",
       "    .dataframe tbody tr th:only-of-type {\n",
       "        vertical-align: middle;\n",
       "    }\n",
       "\n",
       "    .dataframe tbody tr th {\n",
       "        vertical-align: top;\n",
       "    }\n",
       "\n",
       "    .dataframe thead th {\n",
       "        text-align: right;\n",
       "    }\n",
       "</style>\n",
       "<table border=\"1\" class=\"dataframe\">\n",
       "  <thead>\n",
       "    <tr style=\"text-align: right;\">\n",
       "      <th></th>\n",
       "      <th>variables</th>\n",
       "      <th>missing_count</th>\n",
       "      <th>missing_percent_(%)</th>\n",
       "      <th>data_type</th>\n",
       "      <th>unique_values</th>\n",
       "    </tr>\n",
       "  </thead>\n",
       "  <tbody>\n",
       "    <tr>\n",
       "      <th>0</th>\n",
       "      <td>Sales</td>\n",
       "      <td>0</td>\n",
       "      <td>0.0</td>\n",
       "      <td>float64</td>\n",
       "      <td>13194</td>\n",
       "    </tr>\n",
       "    <tr>\n",
       "      <th>1</th>\n",
       "      <td>Store</td>\n",
       "      <td>0</td>\n",
       "      <td>0.0</td>\n",
       "      <td>int64</td>\n",
       "      <td>1115</td>\n",
       "    </tr>\n",
       "    <tr>\n",
       "      <th>2</th>\n",
       "      <td>DayOfWeek</td>\n",
       "      <td>0</td>\n",
       "      <td>0.0</td>\n",
       "      <td>int64</td>\n",
       "      <td>7</td>\n",
       "    </tr>\n",
       "    <tr>\n",
       "      <th>3</th>\n",
       "      <td>Date</td>\n",
       "      <td>0</td>\n",
       "      <td>0.0</td>\n",
       "      <td>object</td>\n",
       "      <td>942</td>\n",
       "    </tr>\n",
       "    <tr>\n",
       "      <th>4</th>\n",
       "      <td>Open</td>\n",
       "      <td>0</td>\n",
       "      <td>0.0</td>\n",
       "      <td>int64</td>\n",
       "      <td>2</td>\n",
       "    </tr>\n",
       "    <tr>\n",
       "      <th>5</th>\n",
       "      <td>Promo</td>\n",
       "      <td>0</td>\n",
       "      <td>0.0</td>\n",
       "      <td>int64</td>\n",
       "      <td>2</td>\n",
       "    </tr>\n",
       "    <tr>\n",
       "      <th>6</th>\n",
       "      <td>StateHoliday</td>\n",
       "      <td>0</td>\n",
       "      <td>0.0</td>\n",
       "      <td>object</td>\n",
       "      <td>4</td>\n",
       "    </tr>\n",
       "    <tr>\n",
       "      <th>7</th>\n",
       "      <td>SchoolHoliday</td>\n",
       "      <td>0</td>\n",
       "      <td>0.0</td>\n",
       "      <td>int64</td>\n",
       "      <td>2</td>\n",
       "    </tr>\n",
       "    <tr>\n",
       "      <th>8</th>\n",
       "      <td>StoreType</td>\n",
       "      <td>0</td>\n",
       "      <td>0.0</td>\n",
       "      <td>object</td>\n",
       "      <td>4</td>\n",
       "    </tr>\n",
       "    <tr>\n",
       "      <th>9</th>\n",
       "      <td>Assortment</td>\n",
       "      <td>0</td>\n",
       "      <td>0.0</td>\n",
       "      <td>object</td>\n",
       "      <td>3</td>\n",
       "    </tr>\n",
       "    <tr>\n",
       "      <th>10</th>\n",
       "      <td>CompetitionDistance</td>\n",
       "      <td>0</td>\n",
       "      <td>0.0</td>\n",
       "      <td>float64</td>\n",
       "      <td>654</td>\n",
       "    </tr>\n",
       "    <tr>\n",
       "      <th>11</th>\n",
       "      <td>Promo2</td>\n",
       "      <td>0</td>\n",
       "      <td>0.0</td>\n",
       "      <td>int64</td>\n",
       "      <td>2</td>\n",
       "    </tr>\n",
       "    <tr>\n",
       "      <th>12</th>\n",
       "      <td>Promo2SinceWeek</td>\n",
       "      <td>0</td>\n",
       "      <td>0.0</td>\n",
       "      <td>float64</td>\n",
       "      <td>25</td>\n",
       "    </tr>\n",
       "    <tr>\n",
       "      <th>13</th>\n",
       "      <td>Promo2SinceYear</td>\n",
       "      <td>0</td>\n",
       "      <td>0.0</td>\n",
       "      <td>float64</td>\n",
       "      <td>8</td>\n",
       "    </tr>\n",
       "    <tr>\n",
       "      <th>14</th>\n",
       "      <td>PromoInterval</td>\n",
       "      <td>0</td>\n",
       "      <td>0.0</td>\n",
       "      <td>object</td>\n",
       "      <td>4</td>\n",
       "    </tr>\n",
       "    <tr>\n",
       "      <th>15</th>\n",
       "      <td>Year</td>\n",
       "      <td>0</td>\n",
       "      <td>0.0</td>\n",
       "      <td>int64</td>\n",
       "      <td>3</td>\n",
       "    </tr>\n",
       "    <tr>\n",
       "      <th>16</th>\n",
       "      <td>Month</td>\n",
       "      <td>0</td>\n",
       "      <td>0.0</td>\n",
       "      <td>int64</td>\n",
       "      <td>12</td>\n",
       "    </tr>\n",
       "    <tr>\n",
       "      <th>17</th>\n",
       "      <td>DayOfMonth</td>\n",
       "      <td>0</td>\n",
       "      <td>0.0</td>\n",
       "      <td>int64</td>\n",
       "      <td>31</td>\n",
       "    </tr>\n",
       "    <tr>\n",
       "      <th>18</th>\n",
       "      <td>WeekOfYear</td>\n",
       "      <td>0</td>\n",
       "      <td>0.0</td>\n",
       "      <td>int64</td>\n",
       "      <td>52</td>\n",
       "    </tr>\n",
       "    <tr>\n",
       "      <th>19</th>\n",
       "      <td>weekday</td>\n",
       "      <td>0</td>\n",
       "      <td>0.0</td>\n",
       "      <td>int64</td>\n",
       "      <td>2</td>\n",
       "    </tr>\n",
       "    <tr>\n",
       "      <th>20</th>\n",
       "      <td>MonthPeriod</td>\n",
       "      <td>0</td>\n",
       "      <td>0.0</td>\n",
       "      <td>int64</td>\n",
       "      <td>3</td>\n",
       "    </tr>\n",
       "    <tr>\n",
       "      <th>21</th>\n",
       "      <td>Holiday</td>\n",
       "      <td>0</td>\n",
       "      <td>0.0</td>\n",
       "      <td>int64</td>\n",
       "      <td>2</td>\n",
       "    </tr>\n",
       "    <tr>\n",
       "      <th>22</th>\n",
       "      <td>YearlyTerm</td>\n",
       "      <td>0</td>\n",
       "      <td>0.0</td>\n",
       "      <td>int64</td>\n",
       "      <td>4</td>\n",
       "    </tr>\n",
       "  </tbody>\n",
       "</table>\n",
       "</div>"
      ],
      "text/plain": [
       "              variables  missing_count  missing_percent_(%) data_type  \\\n",
       "0                 Sales              0                  0.0   float64   \n",
       "1                 Store              0                  0.0     int64   \n",
       "2             DayOfWeek              0                  0.0     int64   \n",
       "3                  Date              0                  0.0    object   \n",
       "4                  Open              0                  0.0     int64   \n",
       "5                 Promo              0                  0.0     int64   \n",
       "6          StateHoliday              0                  0.0    object   \n",
       "7         SchoolHoliday              0                  0.0     int64   \n",
       "8             StoreType              0                  0.0    object   \n",
       "9            Assortment              0                  0.0    object   \n",
       "10  CompetitionDistance              0                  0.0   float64   \n",
       "11               Promo2              0                  0.0     int64   \n",
       "12      Promo2SinceWeek              0                  0.0   float64   \n",
       "13      Promo2SinceYear              0                  0.0   float64   \n",
       "14        PromoInterval              0                  0.0    object   \n",
       "15                 Year              0                  0.0     int64   \n",
       "16                Month              0                  0.0     int64   \n",
       "17           DayOfMonth              0                  0.0     int64   \n",
       "18           WeekOfYear              0                  0.0     int64   \n",
       "19              weekday              0                  0.0     int64   \n",
       "20          MonthPeriod              0                  0.0     int64   \n",
       "21              Holiday              0                  0.0     int64   \n",
       "22           YearlyTerm              0                  0.0     int64   \n",
       "\n",
       "    unique_values  \n",
       "0           13194  \n",
       "1            1115  \n",
       "2               7  \n",
       "3             942  \n",
       "4               2  \n",
       "5               2  \n",
       "6               4  \n",
       "7               2  \n",
       "8               4  \n",
       "9               3  \n",
       "10            654  \n",
       "11              2  \n",
       "12             25  \n",
       "13              8  \n",
       "14              4  \n",
       "15              3  \n",
       "16             12  \n",
       "17             31  \n",
       "18             52  \n",
       "19              2  \n",
       "20              3  \n",
       "21              2  \n",
       "22              4  "
      ]
     },
     "execution_count": 6,
     "metadata": {},
     "output_type": "execute_result"
    }
   ],
   "source": [
    "# selecting out some features\n",
    "\n",
    "train_cl = train.drop([\"Customers\"], axis=1) # we are taking customers feature out \n",
    "sales = train_cl.pop(\"Sales\")\n",
    "train_cl.insert(0,\"Sales\", sales)            # moving the target in the first position\n",
    "DV.summ_columns(train_cl)\n"
   ]
  },
  {
   "cell_type": "code",
   "execution_count": 7,
   "metadata": {},
   "outputs": [
    {
     "data": {
      "text/html": [
       "<div>\n",
       "<style scoped>\n",
       "    .dataframe tbody tr th:only-of-type {\n",
       "        vertical-align: middle;\n",
       "    }\n",
       "\n",
       "    .dataframe tbody tr th {\n",
       "        vertical-align: top;\n",
       "    }\n",
       "\n",
       "    .dataframe thead th {\n",
       "        text-align: right;\n",
       "    }\n",
       "</style>\n",
       "<table border=\"1\" class=\"dataframe\">\n",
       "  <thead>\n",
       "    <tr style=\"text-align: right;\">\n",
       "      <th></th>\n",
       "      <th>Date</th>\n",
       "      <th>StateHoliday</th>\n",
       "      <th>StoreType</th>\n",
       "      <th>Assortment</th>\n",
       "      <th>PromoInterval</th>\n",
       "    </tr>\n",
       "  </thead>\n",
       "  <tbody>\n",
       "    <tr>\n",
       "      <th>0</th>\n",
       "      <td>2015-07-31</td>\n",
       "      <td>No Holiday</td>\n",
       "      <td>c</td>\n",
       "      <td>a</td>\n",
       "      <td>Not_Av</td>\n",
       "    </tr>\n",
       "    <tr>\n",
       "      <th>1</th>\n",
       "      <td>2015-07-31</td>\n",
       "      <td>No Holiday</td>\n",
       "      <td>a</td>\n",
       "      <td>a</td>\n",
       "      <td>Jan,Apr,Jul,Oct</td>\n",
       "    </tr>\n",
       "    <tr>\n",
       "      <th>2</th>\n",
       "      <td>2015-07-31</td>\n",
       "      <td>No Holiday</td>\n",
       "      <td>a</td>\n",
       "      <td>a</td>\n",
       "      <td>Jan,Apr,Jul,Oct</td>\n",
       "    </tr>\n",
       "    <tr>\n",
       "      <th>3</th>\n",
       "      <td>2015-07-31</td>\n",
       "      <td>No Holiday</td>\n",
       "      <td>c</td>\n",
       "      <td>c</td>\n",
       "      <td>Not_Av</td>\n",
       "    </tr>\n",
       "    <tr>\n",
       "      <th>4</th>\n",
       "      <td>2015-07-31</td>\n",
       "      <td>No Holiday</td>\n",
       "      <td>a</td>\n",
       "      <td>a</td>\n",
       "      <td>Not_Av</td>\n",
       "    </tr>\n",
       "  </tbody>\n",
       "</table>\n",
       "</div>"
      ],
      "text/plain": [
       "         Date StateHoliday StoreType Assortment    PromoInterval\n",
       "0  2015-07-31   No Holiday         c          a           Not_Av\n",
       "1  2015-07-31   No Holiday         a          a  Jan,Apr,Jul,Oct\n",
       "2  2015-07-31   No Holiday         a          a  Jan,Apr,Jul,Oct\n",
       "3  2015-07-31   No Holiday         c          c           Not_Av\n",
       "4  2015-07-31   No Holiday         a          a           Not_Av"
      ]
     },
     "execution_count": 7,
     "metadata": {},
     "output_type": "execute_result"
    }
   ],
   "source": [
    "# separating numerical and categorical variables\n",
    "\n",
    "categorical_lis, numerical_lis = DT.sep_cat_num(train_cl)\n",
    "categorical_lis.head()"
   ]
  },
  {
   "cell_type": "code",
   "execution_count": 8,
   "metadata": {},
   "outputs": [
    {
     "name": "stdout",
     "output_type": "stream",
     "text": [
      "              Date StateHoliday StoreType Assortment     PromoInterval\n",
      "33513   2015-07-01   No Holiday         d          c   Jan,Apr,Jul,Oct\n",
      "695604  2013-10-16   No Holiday         a          a            Not_Av\n",
      "57627   2015-06-10   No Holiday         d          c            Not_Av\n",
      "76801   2015-05-24   No Holiday         d          a            Not_Av\n",
      "738216  2013-09-08   No Holiday         a          c  Mar,Jun,Sept,Dec\n",
      "catagories successfully labeled\n",
      "        Date  StateHoliday  StoreType  Assortment  PromoInterval\n",
      "33513    911             2          3           2              1\n",
      "695604   288             2          0           0              3\n",
      "57627    890             2          3           2              3\n",
      "76801    873             2          3           0              3\n",
      "738216   250             2          0           2              2\n",
      "Data successfully scaled\n",
      "target and features separated\n",
      "data successfully splitted\n"
     ]
    }
   ],
   "source": [
    "# setup pipeline\n",
    "\n",
    "sampled_train_cl = train_cl.sample(n=80000)  # taking a smaller sample of the data to minimize testing time\n",
    "sets, scaler = DT.build_pipe(categorical_lis.columns.to_list()).fit_transform(sampled_train_cl)"
   ]
  },
  {
   "cell_type": "code",
   "execution_count": 9,
   "metadata": {},
   "outputs": [],
   "source": [
    "# Enable autolog()\n",
    "mlflow.set_experiment(\"Random forest modeling experiment\")\n",
    "mlflow.sklearn.autolog()"
   ]
  },
  {
   "cell_type": "code",
   "execution_count": 10,
   "metadata": {},
   "outputs": [],
   "source": [
    "\n",
    "# With autolog() enabled, all model parameters, a model score, and the fitted model are automatically logged.  \n",
    "with mlflow.start_run():\n",
    "  \n",
    "  # Set the model parameters. \n",
    "  n_estimators = 100\n",
    "  max_depth = 1\n",
    "  \n",
    "  # Create and train model.\n",
    "  rf = RandomForestRegressor(n_estimators = n_estimators, max_depth = max_depth)\n",
    "  rf.fit(sets[0], sets[1])\n",
    "  \n",
    "  # Use the model to make predictions on the test dataset.\n",
    "  predictions = rf.predict(sets[2]) "
   ]
  },
  {
   "cell_type": "code",
   "execution_count": 11,
   "metadata": {},
   "outputs": [
    {
     "name": "stdout",
     "output_type": "stream",
     "text": [
      "accuracy:  0.5535630325063228  Error:  0.024890959810240157\n"
     ]
    }
   ],
   "source": [
    "error = mean_squared_error(predictions, sets[3])\n",
    "accuracy = rf.score(sets[2], sets[3])\n",
    "print(\"accuracy: \", accuracy, \" Error: \", error)"
   ]
  },
  {
   "cell_type": "code",
   "execution_count": null,
   "metadata": {},
   "outputs": [],
   "source": []
  },
  {
   "cell_type": "code",
   "execution_count": 12,
   "metadata": {},
   "outputs": [
    {
     "name": "stderr",
     "output_type": "stream",
     "text": [
      "2022/05/28 15:17:05 INFO mlflow.sklearn.utils: Logging the 5 best runs, 7 runs will be omitted.\n"
     ]
    }
   ],
   "source": [
    "# fitting data using Random Forest Regressor\n",
    "with mlflow.start_run():\n",
    "    model = RandomForestRegressor(random_state=0)\n",
    "    param_vals = {'max_depth': [5, 10, 15, 20], 'n_estimators': [40, 60, 80]}\n",
    "\n",
    "    random_rf = GridSearchCV(estimator=model, param_grid=param_vals,\n",
    "    cv = 6, refit=True, n_jobs=-1, return_train_score=True)\n",
    "    \n",
    "    # fit the regressor with x and y data\n",
    "    random_rf.fit(sets[0], sets[1]) \n",
    "    random_rf.best_estimator_.score(sets[2], sets[3])\n",
    "    mean_squared_error(predictions, sets[3])\n"
   ]
  },
  {
   "cell_type": "code",
   "execution_count": 13,
   "metadata": {},
   "outputs": [
    {
     "data": {
      "text/html": [
       "<div>\n",
       "<style scoped>\n",
       "    .dataframe tbody tr th:only-of-type {\n",
       "        vertical-align: middle;\n",
       "    }\n",
       "\n",
       "    .dataframe tbody tr th {\n",
       "        vertical-align: top;\n",
       "    }\n",
       "\n",
       "    .dataframe thead th {\n",
       "        text-align: right;\n",
       "    }\n",
       "</style>\n",
       "<table border=\"1\" class=\"dataframe\">\n",
       "  <thead>\n",
       "    <tr style=\"text-align: right;\">\n",
       "      <th></th>\n",
       "      <th>parameters</th>\n",
       "      <th>score</th>\n",
       "    </tr>\n",
       "  </thead>\n",
       "  <tbody>\n",
       "    <tr>\n",
       "      <th>0</th>\n",
       "      <td>{'max_depth': 5, 'n_estimators': 40}</td>\n",
       "      <td>0.653287</td>\n",
       "    </tr>\n",
       "    <tr>\n",
       "      <th>1</th>\n",
       "      <td>{'max_depth': 5, 'n_estimators': 60}</td>\n",
       "      <td>0.653376</td>\n",
       "    </tr>\n",
       "    <tr>\n",
       "      <th>2</th>\n",
       "      <td>{'max_depth': 5, 'n_estimators': 80}</td>\n",
       "      <td>0.653446</td>\n",
       "    </tr>\n",
       "    <tr>\n",
       "      <th>3</th>\n",
       "      <td>{'max_depth': 10, 'n_estimators': 40}</td>\n",
       "      <td>0.717334</td>\n",
       "    </tr>\n",
       "    <tr>\n",
       "      <th>4</th>\n",
       "      <td>{'max_depth': 10, 'n_estimators': 60}</td>\n",
       "      <td>0.717835</td>\n",
       "    </tr>\n",
       "    <tr>\n",
       "      <th>5</th>\n",
       "      <td>{'max_depth': 10, 'n_estimators': 80}</td>\n",
       "      <td>0.718086</td>\n",
       "    </tr>\n",
       "    <tr>\n",
       "      <th>6</th>\n",
       "      <td>{'max_depth': 15, 'n_estimators': 40}</td>\n",
       "      <td>0.795832</td>\n",
       "    </tr>\n",
       "    <tr>\n",
       "      <th>7</th>\n",
       "      <td>{'max_depth': 15, 'n_estimators': 60}</td>\n",
       "      <td>0.796598</td>\n",
       "    </tr>\n",
       "    <tr>\n",
       "      <th>8</th>\n",
       "      <td>{'max_depth': 15, 'n_estimators': 80}</td>\n",
       "      <td>0.797071</td>\n",
       "    </tr>\n",
       "    <tr>\n",
       "      <th>9</th>\n",
       "      <td>{'max_depth': 20, 'n_estimators': 40}</td>\n",
       "      <td>0.843444</td>\n",
       "    </tr>\n",
       "    <tr>\n",
       "      <th>10</th>\n",
       "      <td>{'max_depth': 20, 'n_estimators': 60}</td>\n",
       "      <td>0.844823</td>\n",
       "    </tr>\n",
       "    <tr>\n",
       "      <th>11</th>\n",
       "      <td>{'max_depth': 20, 'n_estimators': 80}</td>\n",
       "      <td>0.845428</td>\n",
       "    </tr>\n",
       "  </tbody>\n",
       "</table>\n",
       "</div>"
      ],
      "text/plain": [
       "                               parameters     score\n",
       "0    {'max_depth': 5, 'n_estimators': 40}  0.653287\n",
       "1    {'max_depth': 5, 'n_estimators': 60}  0.653376\n",
       "2    {'max_depth': 5, 'n_estimators': 80}  0.653446\n",
       "3   {'max_depth': 10, 'n_estimators': 40}  0.717334\n",
       "4   {'max_depth': 10, 'n_estimators': 60}  0.717835\n",
       "5   {'max_depth': 10, 'n_estimators': 80}  0.718086\n",
       "6   {'max_depth': 15, 'n_estimators': 40}  0.795832\n",
       "7   {'max_depth': 15, 'n_estimators': 60}  0.796598\n",
       "8   {'max_depth': 15, 'n_estimators': 80}  0.797071\n",
       "9   {'max_depth': 20, 'n_estimators': 40}  0.843444\n",
       "10  {'max_depth': 20, 'n_estimators': 60}  0.844823\n",
       "11  {'max_depth': 20, 'n_estimators': 80}  0.845428"
      ]
     },
     "execution_count": 13,
     "metadata": {},
     "output_type": "execute_result"
    }
   ],
   "source": [
    "# results\n",
    "out = random_rf.cv_results_\n",
    "pair = {\"parameters\":out['params'], \"score\":out['mean_test_score'],  }\n",
    "pair = pd.DataFrame(pair)\n",
    "pair"
   ]
  },
  {
   "cell_type": "code",
   "execution_count": 14,
   "metadata": {},
   "outputs": [
    {
     "name": "stdout",
     "output_type": "stream",
     "text": [
      "accuracy:  0.8540584750706002  Error:  0.008136926142242689\n"
     ]
    }
   ],
   "source": [
    "predictions = random_rf.best_estimator_.predict(sets[2])\n",
    "error = mean_squared_error(predictions, sets[3])\n",
    "accuracy = random_rf.best_estimator_.score(sets[2], sets[3])\n",
    "print(\"accuracy: \", accuracy, \" Error: \", error)"
   ]
  },
  {
   "cell_type": "markdown",
   "metadata": {},
   "source": [
    "**Observation**\n",
    "- Desired level of accuracy has been reached = 0.85\n",
    "- Model will be trained based on the above hyperparameters."
   ]
  },
  {
   "cell_type": "markdown",
   "metadata": {},
   "source": [
    "### Loss functions\n",
    "\n",
    "- MAE = Mean Absolute Eror. this is robhust when outliers are present in the data. \n",
    "- MSE = Mean Squared Eror. This function penalizes large errors and it is easiy to calculate gradients.\n",
    "\n",
    "Since there are no outliers in the data, MSE is chosen.\n",
    "\n"
   ]
  },
  {
   "cell_type": "markdown",
   "metadata": {},
   "source": [
    "### calculating feature importance"
   ]
  },
  {
   "cell_type": "code",
   "execution_count": 15,
   "metadata": {},
   "outputs": [
    {
     "data": {
      "image/png": "[encoded data removed]",
      "text/plain": [
       "<Figure size 1152x360 with 1 Axes>"
      ]
     },
     "metadata": {
      "needs_background": "light"
     },
     "output_type": "display_data"
    }
   ],
   "source": [
    "#features, target= DT.target_feature(train_cl, 0)\n",
    "\n",
    "imp_dict = DV.get_importance(random_rf.best_estimator_, train_cl)\n",
    "features = list(imp_dict.keys())\n",
    "importance = list(imp_dict.values())\n",
    "plt.figure(figsize=(16,5))\n",
    "pal = sns.color_palette(\"flare\", as_cmap=True)\n",
    "ax = sns.barplot(features, importance, color=\"darkgreen\")\n",
    "ax.invert_xaxis()\n",
    "locs, labels = plt.xticks()\n",
    "plt.setp(labels, rotation=45)\n",
    "plt.show()"
   ]
  },
  {
   "cell_type": "markdown",
   "metadata": {},
   "source": [
    "## reducing number of features"
   ]
  },
  {
   "cell_type": "code",
   "execution_count": 16,
   "metadata": {},
   "outputs": [
    {
     "name": "stdout",
     "output_type": "stream",
     "text": [
      "<class 'pandas.core.frame.DataFrame'>\n",
      "RangeIndex: 1017209 entries, 0 to 1017208\n",
      "Data columns (total 12 columns):\n",
      " #   Column               Non-Null Count    Dtype  \n",
      "---  ------               --------------    -----  \n",
      " 0   Sales                1017209 non-null  float64\n",
      " 1   Month                1017209 non-null  int64  \n",
      " 2   Assortment           1017209 non-null  object \n",
      " 3   StoreType            1017209 non-null  object \n",
      " 4   WeekOfYear           1017209 non-null  int64  \n",
      " 5   DayOfWeek            1017209 non-null  int64  \n",
      " 6   DayOfMonth           1017209 non-null  int64  \n",
      " 7   Promo                1017209 non-null  int64  \n",
      " 8   Store                1017209 non-null  int64  \n",
      " 9   CompetitionDistance  1017209 non-null  float64\n",
      " 10  Open                 1017209 non-null  int64  \n",
      " 11  Holiday              1017209 non-null  int64  \n",
      "dtypes: float64(2), int64(8), object(2)\n",
      "memory usage: 93.1+ MB\n"
     ]
    }
   ],
   "source": [
    "## Removing irrelevant features and cusomer\n",
    "include_list = [\"Sales\", 'Month','Assortment', 'StoreType','WeekOfYear', 'DayOfWeek', 'DayOfMonth', 'Promo', 'Store', 'CompetitionDistance', 'Open', 'Holiday']\n",
    "train_2 = train_cl[include_list]\n",
    "train_2.info()"
   ]
  },
  {
   "cell_type": "code",
   "execution_count": 17,
   "metadata": {},
   "outputs": [
    {
     "name": "stderr",
     "output_type": "stream",
     "text": [
      "2022/05/28 15:17:16 INFO mlflow.utils.autologging_utils: Created MLflow autologging run with ID '71c2fb6dc2a2451eb9fc76ec83e2aeff', which will track hyperparameters, performance metrics, model artifacts, and lineage information for the current sklearn workflow\n",
      "2022/05/28 15:17:16 WARNING mlflow.utils: Truncated the value of the key `steps`. Truncated value: `[('labeling', FunctionTransformer(func=<bound method DataTransformer.cat_labeler of <data_transformation.DataTransformer object at 0x000001A9C99CE670>>,\n",
      "                    kw_args={'cat_cols': ['Assortment', 'StoreType']})), ('scaling', FunctionT...`\n"
     ]
    },
    {
     "name": "stdout",
     "output_type": "stream",
     "text": [
      "       Assortment StoreType\n",
      "625956          a         a\n",
      "882435          c         c\n",
      "901334          a         b\n",
      "776407          a         d\n",
      "241807          c         a\n",
      "catagories successfully labeled\n",
      "        Assortment  StoreType\n",
      "625956           0          0\n",
      "882435           2          2\n",
      "901334           0          1\n",
      "776407           0          3\n",
      "241807           2          0\n"
     ]
    },
    {
     "name": "stderr",
     "output_type": "stream",
     "text": [
      "2022/05/28 15:17:16 WARNING mlflow.sklearn: Training metrics will not be recorded because training labels were not specified. To automatically record training metrics, provide training labels as inputs to the model training function.\n",
      "2022/05/28 15:17:16 WARNING mlflow.sklearn: Failed to infer model signature: the trained model does not specify a `predict` function, which is required in order to infer the signature\n"
     ]
    },
    {
     "name": "stdout",
     "output_type": "stream",
     "text": [
      "Data successfully scaled\n",
      "target and features separated\n",
      "data successfully splitted\n"
     ]
    },
    {
     "name": "stderr",
     "output_type": "stream",
     "text": [
      "2022/05/28 15:17:33 INFO mlflow.utils.autologging_utils: Created MLflow autologging run with ID '250124dcb3d848489cc8b8b899fc156b', which will track hyperparameters, performance metrics, model artifacts, and lineage information for the current sklearn workflow\n"
     ]
    },
    {
     "name": "stdout",
     "output_type": "stream",
     "text": [
      "prediction accuracy:  0.7597092625358368\n"
     ]
    }
   ],
   "source": [
    "# separating numerical and categorical variables\n",
    "\n",
    "categorical_lis2, numerical_lis2 = DT.sep_cat_num(train_2)\n",
    "\n",
    "sampled_train_cl2 = train_2.sample(n=60000)\n",
    "sets2, scaler = DT.build_pipe(categorical_lis2.columns.to_list()).fit_transform(sampled_train_cl2)\n",
    "\n",
    "# fitting data using Random Forest Regressor\n",
    "model2 = RandomForestRegressor(n_estimators = 40, max_depth = 16, random_state = 0)\n",
    " \n",
    "# fit the regressor with x and y data\n",
    "model2.fit(sets2[0], sets2[1])\n",
    "\n",
    "# checking accuracy\n",
    "accuracy2 = model2.score(sets2[2], sets2[3])\n",
    "print(\"prediction accuracy: \", accuracy2)\n"
   ]
  },
  {
   "cell_type": "code",
   "execution_count": 18,
   "metadata": {},
   "outputs": [
    {
     "data": {
      "image/png": "[encoded data removed]",
      "text/plain": [
       "<Figure size 1152x360 with 1 Axes>"
      ]
     },
     "metadata": {
      "needs_background": "light"
     },
     "output_type": "display_data"
    }
   ],
   "source": [
    "#features, target= DT.target_feature(train_cl, 0)\n",
    "imp_dict = DV.get_importance(model2, train_2)\n",
    "features = list(imp_dict.keys())\n",
    "importance = list(imp_dict.values())\n",
    "plt.figure(figsize=(16,5))\n",
    "pal = sns.color_palette(\"flare\", as_cmap=True)\n",
    "ax = sns.barplot(features, importance, color=\"darkgreen\")\n",
    "ax.invert_xaxis()\n",
    "locs, labels = plt.xticks()\n",
    "plt.setp(labels, rotation=45)\n",
    "plt.show()"
   ]
  },
  {
   "cell_type": "code",
   "execution_count": 19,
   "metadata": {},
   "outputs": [],
   "source": [
    "# datetime object containing current date and time\n",
    "now = datetime.now()\n",
    "time = now.strftime(\"%d-%m-%Y-%H-%M-%S\")\n",
    "filename = \"../models/RFR-sales-\"+str(time)+'.pkl'\n",
    "pickle.dump(model2, open(filename, 'wb'))\n",
    "# save the scaler\n",
    "pickle.dump(scaler, open('../models/scaler-'+time+'.pkl', 'wb'))"
   ]
  },
  {
   "cell_type": "code",
   "execution_count": null,
   "metadata": {},
   "outputs": [],
   "source": []
  },
  {
   "cell_type": "markdown",
   "metadata": {},
   "source": [
    "## Predicting number of customers"
   ]
  },
  {
   "cell_type": "code",
   "execution_count": 20,
   "metadata": {},
   "outputs": [],
   "source": [
    "## Removing irrelevant features and cusomer\n",
    "include_list2 = [\"Customers\", 'Month', 'PromoInterval', 'Assortment', 'StoreType','WeekOfYear', 'DayOfWeek', 'DayOfMonth', 'Promo', 'Store', 'CompetitionDistance', 'Open']\n",
    "train_3 = train[include_list2]"
   ]
  },
  {
   "cell_type": "code",
   "execution_count": 21,
   "metadata": {},
   "outputs": [
    {
     "name": "stderr",
     "output_type": "stream",
     "text": [
      "2022/05/28 15:18:03 INFO mlflow.utils.autologging_utils: Created MLflow autologging run with ID '9c07bc1c604a43b4a94104db38e647fa', which will track hyperparameters, performance metrics, model artifacts, and lineage information for the current sklearn workflow\n",
      "2022/05/28 15:18:03 WARNING mlflow.utils: Truncated the value of the key `steps`. Truncated value: `[('labeling', FunctionTransformer(func=<bound method DataTransformer.cat_labeler of <data_transformation.DataTransformer object at 0x000001A9C99CE670>>,\n",
      "                    kw_args={'cat_cols': ['PromoInterval', 'Assortment',\n",
      "                     ...`\n",
      "2022/05/28 15:18:03 WARNING mlflow.utils: Truncated the value of the key `labeling`. Truncated value: `FunctionTransformer(func=<bound method DataTransformer.cat_labeler of <data_transformation.DataTransformer object at 0x000001A9C99CE670>>,\n",
      "                    kw_args={'cat_cols': ['PromoInterval', 'Assortment',\n",
      "                                   ...`\n"
     ]
    },
    {
     "name": "stdout",
     "output_type": "stream",
     "text": [
      "          PromoInterval Assortment StoreType\n",
      "563849           Not_Av          a         a\n",
      "832969  Jan,Apr,Jul,Oct          a         d\n",
      "980164           Not_Av          c         d\n",
      "334040  Jan,Apr,Jul,Oct          a         a\n",
      "11318   Feb,May,Aug,Nov          a         d\n",
      "catagories successfully labeled\n",
      "        PromoInterval  Assortment  StoreType\n",
      "563849              3           0          0\n",
      "832969              1           0          3\n",
      "980164              3           2          3\n",
      "334040              1           0          0\n",
      "11318               0           0          3\n"
     ]
    },
    {
     "name": "stderr",
     "output_type": "stream",
     "text": [
      "2022/05/28 15:18:05 WARNING mlflow.sklearn: Training metrics will not be recorded because training labels were not specified. To automatically record training metrics, provide training labels as inputs to the model training function.\n",
      "2022/05/28 15:18:05 WARNING mlflow.sklearn: Failed to infer model signature: the trained model does not specify a `predict` function, which is required in order to infer the signature\n"
     ]
    },
    {
     "name": "stdout",
     "output_type": "stream",
     "text": [
      "Data successfully scaled\n",
      "target and features separated\n",
      "data successfully splitted\n"
     ]
    },
    {
     "name": "stderr",
     "output_type": "stream",
     "text": [
      "2022/05/28 15:18:50 INFO mlflow.utils.autologging_utils: Created MLflow autologging run with ID 'a46d0ddaaad14514b1f4e0ea62298a40', which will track hyperparameters, performance metrics, model artifacts, and lineage information for the current sklearn workflow\n"
     ]
    },
    {
     "name": "stdout",
     "output_type": "stream",
     "text": [
      "prediction accuracy:  0.9027734201373832\n"
     ]
    }
   ],
   "source": [
    "# separating numerical and categorical variables\n",
    "\n",
    "categorical_lis3, numerical_lis3 = DT.sep_cat_num(train_3)\n",
    "\n",
    "sampled_train_cl3 = train_3.sample(n=100000)\n",
    "sets3, scaler = DT.build_pipe(categorical_lis3.columns.to_list()).fit_transform(sampled_train_cl3)\n",
    "\n",
    "# fitting data using Random Forest Regressor\n",
    "model3 = RandomForestRegressor(n_estimators = 100, random_state = 0)\n",
    " \n",
    "# fit the regressor with x and y data\n",
    "model3.fit(sets3[0], sets3[1])\n",
    "\n",
    "# checking accuracy\n",
    "accuracy3 = model3.score(sets3[2], sets3[3])\n",
    "print(\"prediction accuracy: \", accuracy3)"
   ]
  },
  {
   "cell_type": "code",
   "execution_count": 22,
   "metadata": {},
   "outputs": [
    {
     "data": {
      "image/png": "[encoded data removed]",
      "text/plain": [
       "<Figure size 1152x360 with 1 Axes>"
      ]
     },
     "metadata": {
      "needs_background": "light"
     },
     "output_type": "display_data"
    }
   ],
   "source": [
    "#features, target= DT.target_feature(train_cl, 0)\n",
    "imp_dict = DV.get_importance(model3, train_3)\n",
    "features = list(imp_dict.keys())\n",
    "importance = list(imp_dict.values())\n",
    "plt.figure(figsize=(16,5))\n",
    "pal = sns.color_palette(\"flare\", as_cmap=True)\n",
    "ax = sns.barplot(features, importance, color=\"darkgreen\",)\n",
    "ax.invert_xaxis()\n",
    "locs, labels = plt.xticks()\n",
    "plt.setp(labels, rotation=90)\n",
    "plt.show()"
   ]
  },
  {
   "cell_type": "code",
   "execution_count": 23,
   "metadata": {},
   "outputs": [],
   "source": [
    "# datetime object containing current date and time\n",
    "now = datetime.now()\n",
    "time = now.strftime(\"%d-%m-%Y-%H-%M-%S\")\n",
    "filename = \"../models/RFR-customers-\"+str(time)+'.pkl'\n",
    "pickle.dump(model2, open(filename, 'wb'))\n",
    "# save the scaler\n",
    "pickle.dump(scaler, open('../models/scaler-'+time+'.pkl', 'wb'))"
   ]
  },
  {
   "cell_type": "code",
   "execution_count": null,
   "metadata": {},
   "outputs": [],
   "source": []
  }
 ],
 "metadata": {
  "interpreter": {
   "hash": "2b997b5b8794c030e25a28be498e8226ee8897df85ede9190db777bdc9cc75be"
  },
  "kernelspec": {
   "display_name": "Python 3.9.7 ('base')",
   "language": "python",
   "name": "python3"
  },
  "language_info": {
   "codemirror_mode": {
    "name": "ipython",
    "version": 3
   },
   "file_extension": ".py",
   "mimetype": "text/x-python",
   "name": "python",
   "nbconvert_exporter": "python",
   "pygments_lexer": "ipython3",
   "version": "3.9.7"
  },
  "orig_nbformat": 4
 },
 "nbformat": 4,
 "nbformat_minor": 2
}
