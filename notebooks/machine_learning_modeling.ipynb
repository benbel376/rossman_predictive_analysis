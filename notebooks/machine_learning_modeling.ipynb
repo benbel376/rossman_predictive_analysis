{
 "cells": [
  {
   "cell_type": "code",
   "execution_count": 1,
   "metadata": {},
   "outputs": [],
   "source": [
    "from sklearn.pipeline import Pipeline\n",
    "from sklearn.preprocessing import FunctionTransformer\n",
    "from sklearn.ensemble import RandomForestRegressor\n",
    "\n",
    "import matplotlib.pyplot as plt\n",
    "import seaborn as sns\n",
    "from datetime import datetime\n",
    "\n",
    "\n",
    "import pandas as pd\n",
    "import numpy as np\n",
    "import warnings\n",
    "import sys\n",
    "import pickle"
   ]
  },
  {
   "cell_type": "code",
   "execution_count": 2,
   "metadata": {},
   "outputs": [],
   "source": [
    "# suppressing warning messages\n",
    "\n",
    "warnings.filterwarnings('ignore')"
   ]
  },
  {
   "cell_type": "code",
   "execution_count": 3,
   "metadata": {},
   "outputs": [],
   "source": [
    "# importing scripts\n",
    "\n",
    "sys.path.insert(1, '../scripts')\n",
    "\n",
    "from data_viz import Data_Viz\n",
    "from data_cleaning import DataCleaner\n",
    "from data_transformation import DataTransformer\n",
    "\n",
    "DV = Data_Viz(\"../logs/data_model_notebook.log\")\n",
    "DC = DataCleaner(\"../logs/data_model_notebook.log\")\n",
    "DT = DataTransformer(\"../logs/data_model_notebook.log\")"
   ]
  },
  {
   "cell_type": "code",
   "execution_count": 4,
   "metadata": {},
   "outputs": [],
   "source": [
    "# importing the data\n",
    "\n",
    "train = pd.read_csv(\"../data/train_store.csv\")"
   ]
  },
  {
   "cell_type": "code",
   "execution_count": 5,
   "metadata": {},
   "outputs": [
    {
     "data": {
      "text/html": [
       "<div>\n",
       "<style scoped>\n",
       "    .dataframe tbody tr th:only-of-type {\n",
       "        vertical-align: middle;\n",
       "    }\n",
       "\n",
       "    .dataframe tbody tr th {\n",
       "        vertical-align: top;\n",
       "    }\n",
       "\n",
       "    .dataframe thead th {\n",
       "        text-align: right;\n",
       "    }\n",
       "</style>\n",
       "<table border=\"1\" class=\"dataframe\">\n",
       "  <thead>\n",
       "    <tr style=\"text-align: right;\">\n",
       "      <th></th>\n",
       "      <th>Sales</th>\n",
       "      <th>Month</th>\n",
       "      <th>PromoInterval</th>\n",
       "      <th>Assortment</th>\n",
       "      <th>StoreType</th>\n",
       "      <th>WeekOfYear</th>\n",
       "      <th>DayOfWeek</th>\n",
       "      <th>DayOfMonth</th>\n",
       "      <th>Promo</th>\n",
       "      <th>Store</th>\n",
       "      <th>CompetitionDistance</th>\n",
       "      <th>Open</th>\n",
       "    </tr>\n",
       "  </thead>\n",
       "  <tbody>\n",
       "    <tr>\n",
       "      <th>677275</th>\n",
       "      <td>0.0</td>\n",
       "      <td>11</td>\n",
       "      <td>Mar,Jun,Sept,Dec</td>\n",
       "      <td>c</td>\n",
       "      <td>c</td>\n",
       "      <td>44</td>\n",
       "      <td>5</td>\n",
       "      <td>1</td>\n",
       "      <td>0</td>\n",
       "      <td>141</td>\n",
       "      <td>1540.0</td>\n",
       "      <td>0</td>\n",
       "    </tr>\n",
       "    <tr>\n",
       "      <th>80823</th>\n",
       "      <td>5651.0</td>\n",
       "      <td>5</td>\n",
       "      <td>Jan,Apr,Jul,Oct</td>\n",
       "      <td>a</td>\n",
       "      <td>a</td>\n",
       "      <td>21</td>\n",
       "      <td>3</td>\n",
       "      <td>20</td>\n",
       "      <td>1</td>\n",
       "      <td>544</td>\n",
       "      <td>250.0</td>\n",
       "      <td>1</td>\n",
       "    </tr>\n",
       "    <tr>\n",
       "      <th>618657</th>\n",
       "      <td>5569.0</td>\n",
       "      <td>12</td>\n",
       "      <td>Not_Av</td>\n",
       "      <td>c</td>\n",
       "      <td>d</td>\n",
       "      <td>52</td>\n",
       "      <td>2</td>\n",
       "      <td>24</td>\n",
       "      <td>0</td>\n",
       "      <td>618</td>\n",
       "      <td>9910.0</td>\n",
       "      <td>1</td>\n",
       "    </tr>\n",
       "    <tr>\n",
       "      <th>317138</th>\n",
       "      <td>8226.0</td>\n",
       "      <td>10</td>\n",
       "      <td>Not_Av</td>\n",
       "      <td>c</td>\n",
       "      <td>d</td>\n",
       "      <td>41</td>\n",
       "      <td>1</td>\n",
       "      <td>6</td>\n",
       "      <td>1</td>\n",
       "      <td>415</td>\n",
       "      <td>6910.0</td>\n",
       "      <td>1</td>\n",
       "    </tr>\n",
       "    <tr>\n",
       "      <th>755491</th>\n",
       "      <td>2177.0</td>\n",
       "      <td>8</td>\n",
       "      <td>Not_Av</td>\n",
       "      <td>a</td>\n",
       "      <td>a</td>\n",
       "      <td>34</td>\n",
       "      <td>5</td>\n",
       "      <td>23</td>\n",
       "      <td>0</td>\n",
       "      <td>307</td>\n",
       "      <td>18660.0</td>\n",
       "      <td>1</td>\n",
       "    </tr>\n",
       "  </tbody>\n",
       "</table>\n",
       "</div>"
      ],
      "text/plain": [
       "         Sales  Month     PromoInterval Assortment StoreType  WeekOfYear  \\\n",
       "677275     0.0     11  Mar,Jun,Sept,Dec          c         c          44   \n",
       "80823   5651.0      5   Jan,Apr,Jul,Oct          a         a          21   \n",
       "618657  5569.0     12            Not_Av          c         d          52   \n",
       "317138  8226.0     10            Not_Av          c         d          41   \n",
       "755491  2177.0      8            Not_Av          a         a          34   \n",
       "\n",
       "        DayOfWeek  DayOfMonth  Promo  Store  CompetitionDistance  Open  \n",
       "677275          5           1      0    141               1540.0     0  \n",
       "80823           3          20      1    544                250.0     1  \n",
       "618657          2          24      0    618               9910.0     1  \n",
       "317138          1           6      1    415               6910.0     1  \n",
       "755491          5          23      0    307              18660.0     1  "
      ]
     },
     "execution_count": 5,
     "metadata": {},
     "output_type": "execute_result"
    }
   ],
   "source": [
    "train[[\"Sales\", 'Month', 'PromoInterval', 'Assortment', 'StoreType','WeekOfYear', 'DayOfWeek', 'DayOfMonth', 'Promo', 'Store', 'CompetitionDistance', 'Open']].sample(50).head()"
   ]
  },
  {
   "cell_type": "code",
   "execution_count": 6,
   "metadata": {},
   "outputs": [
    {
     "name": "stdout",
     "output_type": "stream",
     "text": [
      "<class 'pandas.core.frame.DataFrame'>\n",
      "RangeIndex: 1017209 entries, 0 to 1017208\n",
      "Data columns (total 23 columns):\n",
      " #   Column               Non-Null Count    Dtype  \n",
      "---  ------               --------------    -----  \n",
      " 0   Sales                1017209 non-null  float64\n",
      " 1   Store                1017209 non-null  int64  \n",
      " 2   DayOfWeek            1017209 non-null  int64  \n",
      " 3   Date                 1017209 non-null  object \n",
      " 4   Open                 1017209 non-null  int64  \n",
      " 5   Promo                1017209 non-null  int64  \n",
      " 6   StateHoliday         1017209 non-null  object \n",
      " 7   SchoolHoliday        1017209 non-null  int64  \n",
      " 8   StoreType            1017209 non-null  object \n",
      " 9   Assortment           1017209 non-null  object \n",
      " 10  CompetitionDistance  1017209 non-null  float64\n",
      " 11  Promo2               1017209 non-null  int64  \n",
      " 12  Promo2SinceWeek      1017209 non-null  float64\n",
      " 13  Promo2SinceYear      1017209 non-null  float64\n",
      " 14  PromoInterval        1017209 non-null  object \n",
      " 15  Year                 1017209 non-null  int64  \n",
      " 16  Month                1017209 non-null  int64  \n",
      " 17  DayOfMonth           1017209 non-null  int64  \n",
      " 18  WeekOfYear           1017209 non-null  int64  \n",
      " 19  weekday              1017209 non-null  int64  \n",
      " 20  MonthPeriod          1017209 non-null  int64  \n",
      " 21  Holiday              1017209 non-null  int64  \n",
      " 22  YearlyTerm           1017209 non-null  int64  \n",
      "dtypes: float64(4), int64(14), object(5)\n",
      "memory usage: 178.5+ MB\n"
     ]
    }
   ],
   "source": [
    "# selecting out some features\n",
    "\n",
    "train_cl = train.drop([\"Customers\"], axis=1)\n",
    "sales = train_cl.pop(\"Sales\")\n",
    "train_cl.insert(0,\"Sales\", sales)\n",
    "train_cl.info()\n"
   ]
  },
  {
   "cell_type": "code",
   "execution_count": 7,
   "metadata": {},
   "outputs": [
    {
     "data": {
      "text/html": [
       "<div>\n",
       "<style scoped>\n",
       "    .dataframe tbody tr th:only-of-type {\n",
       "        vertical-align: middle;\n",
       "    }\n",
       "\n",
       "    .dataframe tbody tr th {\n",
       "        vertical-align: top;\n",
       "    }\n",
       "\n",
       "    .dataframe thead th {\n",
       "        text-align: right;\n",
       "    }\n",
       "</style>\n",
       "<table border=\"1\" class=\"dataframe\">\n",
       "  <thead>\n",
       "    <tr style=\"text-align: right;\">\n",
       "      <th></th>\n",
       "      <th>Date</th>\n",
       "      <th>StateHoliday</th>\n",
       "      <th>StoreType</th>\n",
       "      <th>Assortment</th>\n",
       "      <th>PromoInterval</th>\n",
       "    </tr>\n",
       "  </thead>\n",
       "  <tbody>\n",
       "    <tr>\n",
       "      <th>0</th>\n",
       "      <td>2015-07-31</td>\n",
       "      <td>No Holiday</td>\n",
       "      <td>c</td>\n",
       "      <td>a</td>\n",
       "      <td>Not_Av</td>\n",
       "    </tr>\n",
       "    <tr>\n",
       "      <th>1</th>\n",
       "      <td>2015-07-31</td>\n",
       "      <td>No Holiday</td>\n",
       "      <td>a</td>\n",
       "      <td>a</td>\n",
       "      <td>Jan,Apr,Jul,Oct</td>\n",
       "    </tr>\n",
       "    <tr>\n",
       "      <th>2</th>\n",
       "      <td>2015-07-31</td>\n",
       "      <td>No Holiday</td>\n",
       "      <td>a</td>\n",
       "      <td>a</td>\n",
       "      <td>Jan,Apr,Jul,Oct</td>\n",
       "    </tr>\n",
       "    <tr>\n",
       "      <th>3</th>\n",
       "      <td>2015-07-31</td>\n",
       "      <td>No Holiday</td>\n",
       "      <td>c</td>\n",
       "      <td>c</td>\n",
       "      <td>Not_Av</td>\n",
       "    </tr>\n",
       "    <tr>\n",
       "      <th>4</th>\n",
       "      <td>2015-07-31</td>\n",
       "      <td>No Holiday</td>\n",
       "      <td>a</td>\n",
       "      <td>a</td>\n",
       "      <td>Not_Av</td>\n",
       "    </tr>\n",
       "  </tbody>\n",
       "</table>\n",
       "</div>"
      ],
      "text/plain": [
       "         Date StateHoliday StoreType Assortment    PromoInterval\n",
       "0  2015-07-31   No Holiday         c          a           Not_Av\n",
       "1  2015-07-31   No Holiday         a          a  Jan,Apr,Jul,Oct\n",
       "2  2015-07-31   No Holiday         a          a  Jan,Apr,Jul,Oct\n",
       "3  2015-07-31   No Holiday         c          c           Not_Av\n",
       "4  2015-07-31   No Holiday         a          a           Not_Av"
      ]
     },
     "execution_count": 7,
     "metadata": {},
     "output_type": "execute_result"
    }
   ],
   "source": [
    "# separating numerical and categorical variables\n",
    "\n",
    "categorical_lis, numerical_lis = DT.sep_cat_num(train_cl)\n",
    "categorical_lis.head()"
   ]
  },
  {
   "cell_type": "code",
   "execution_count": 22,
   "metadata": {},
   "outputs": [
    {
     "name": "stdout",
     "output_type": "stream",
     "text": [
      "              Date    StateHoliday StoreType Assortment     PromoInterval\n",
      "713856  2013-09-30      No Holiday         a          a   Feb,May,Aug,Nov\n",
      "417407  2014-06-22      No Holiday         a          c  Mar,Jun,Sept,Dec\n",
      "3717    2015-07-28      No Holiday         d          c   Jan,Apr,Jul,Oct\n",
      "102501  2015-05-01  Public Holiday         a          c            Not_Av\n",
      "261480  2014-12-05      No Holiday         b          b            Not_Av\n",
      "catagories successfully labeled\n",
      "        Date  StateHoliday  StoreType  Assortment  PromoInterval\n",
      "713856   272             2          0           0              0\n",
      "417407   537             2          0           2              2\n",
      "3717     938             2          3           2              1\n",
      "102501   850             3          0           2              3\n",
      "261480   703             2          1           1              3\n",
      "Data successfully scaled\n",
      "target and features separated\n",
      "data successfully splitted\n"
     ]
    }
   ],
   "source": [
    "# setup pipeline\n",
    "\n",
    "sampled_train_cl = train_cl.sample(n=80000)\n",
    "sets, scaler = DT.build_pipe(categorical_lis.columns.to_list()).fit_transform(sampled_train_cl)"
   ]
  },
  {
   "cell_type": "code",
   "execution_count": 23,
   "metadata": {},
   "outputs": [
    {
     "data": {
      "text/plain": [
       "RandomForestRegressor(random_state=0)"
      ]
     },
     "execution_count": 23,
     "metadata": {},
     "output_type": "execute_result"
    }
   ],
   "source": [
    "# fitting data using Random Forest Regressor\n",
    "\n",
    "model = RandomForestRegressor(n_estimators = 100, random_state = 0)\n",
    " \n",
    "# fit the regressor with x and y data\n",
    "model.fit(sets[0], sets[1]) "
   ]
  },
  {
   "cell_type": "markdown",
   "metadata": {},
   "source": [
    "### Loss functions\n",
    "\n",
    "- MAE = Mean Absolute Eror. this is robhust when outliers are present in the data. \n",
    "- MSE = Mean Squared Eror. This function penalizes large errors and it is easiy to calculate gradients.\n",
    "\n",
    "Since there are no outliers in the data, MSE is chosen.\n",
    "\n"
   ]
  },
  {
   "cell_type": "code",
   "execution_count": 10,
   "metadata": {},
   "outputs": [
    {
     "name": "stdout",
     "output_type": "stream",
     "text": [
      "prediction accuracy:  0.8787353620104882\n"
     ]
    }
   ],
   "source": [
    "# checking accuracy\n",
    "\n",
    "accuracy = model.score(sets[2], sets[3])\n",
    "print(\"prediction accuracy: \", accuracy)"
   ]
  },
  {
   "cell_type": "markdown",
   "metadata": {},
   "source": [
    "### calculating feature importance"
   ]
  },
  {
   "cell_type": "code",
   "execution_count": 11,
   "metadata": {},
   "outputs": [
    {
     "data": {
      "image/png": "[encoded data removed]",
      "text/plain": [
       "<Figure size 1152x360 with 1 Axes>"
      ]
     },
     "metadata": {
      "needs_background": "light"
     },
     "output_type": "display_data"
    }
   ],
   "source": [
    "#features, target= DT.target_feature(train_cl, 0)\n",
    "\n",
    "imp_dict = DV.get_importance(model, train_cl)\n",
    "features = list(imp_dict.keys())\n",
    "importance = list(imp_dict.values())\n",
    "plt.figure(figsize=(16,5))\n",
    "pal = sns.color_palette(\"flare\", as_cmap=True)\n",
    "ax = sns.barplot(features, importance, color=\"darkgreen\")\n",
    "ax.invert_xaxis()\n",
    "locs, labels = plt.xticks()\n",
    "plt.setp(labels, rotation=45)\n",
    "plt.show()"
   ]
  },
  {
   "cell_type": "markdown",
   "metadata": {},
   "source": [
    "## reducing number of features"
   ]
  },
  {
   "cell_type": "code",
   "execution_count": 12,
   "metadata": {},
   "outputs": [
    {
     "name": "stdout",
     "output_type": "stream",
     "text": [
      "<class 'pandas.core.frame.DataFrame'>\n",
      "RangeIndex: 1017209 entries, 0 to 1017208\n",
      "Data columns (total 11 columns):\n",
      " #   Column               Non-Null Count    Dtype  \n",
      "---  ------               --------------    -----  \n",
      " 0   Sales                1017209 non-null  float64\n",
      " 1   Month                1017209 non-null  int64  \n",
      " 2   Assortment           1017209 non-null  object \n",
      " 3   StoreType            1017209 non-null  object \n",
      " 4   WeekOfYear           1017209 non-null  int64  \n",
      " 5   DayOfWeek            1017209 non-null  int64  \n",
      " 6   DayOfMonth           1017209 non-null  int64  \n",
      " 7   Promo                1017209 non-null  int64  \n",
      " 8   Store                1017209 non-null  int64  \n",
      " 9   CompetitionDistance  1017209 non-null  float64\n",
      " 10  Open                 1017209 non-null  int64  \n",
      "dtypes: float64(2), int64(7), object(2)\n",
      "memory usage: 85.4+ MB\n"
     ]
    }
   ],
   "source": [
    "## Removing irrelevant features and cusomer\n",
    "include_list = [\"Sales\", 'Month','Assortment', 'StoreType','WeekOfYear', 'DayOfWeek', 'DayOfMonth', 'Promo', 'Store', 'CompetitionDistance', 'Open']\n",
    "train_2 = train_cl[include_list]\n",
    "train_2.info()"
   ]
  },
  {
   "cell_type": "code",
   "execution_count": 13,
   "metadata": {},
   "outputs": [
    {
     "name": "stdout",
     "output_type": "stream",
     "text": [
      "14049.0\n"
     ]
    },
    {
     "data": {
      "text/html": [
       "<div>\n",
       "<style scoped>\n",
       "    .dataframe tbody tr th:only-of-type {\n",
       "        vertical-align: middle;\n",
       "    }\n",
       "\n",
       "    .dataframe tbody tr th {\n",
       "        vertical-align: top;\n",
       "    }\n",
       "\n",
       "    .dataframe thead th {\n",
       "        text-align: right;\n",
       "    }\n",
       "</style>\n",
       "<table border=\"1\" class=\"dataframe\">\n",
       "  <thead>\n",
       "    <tr style=\"text-align: right;\">\n",
       "      <th></th>\n",
       "      <th>Sales</th>\n",
       "      <th>Month</th>\n",
       "      <th>Assortment</th>\n",
       "      <th>StoreType</th>\n",
       "      <th>WeekOfYear</th>\n",
       "      <th>DayOfWeek</th>\n",
       "      <th>DayOfMonth</th>\n",
       "      <th>Promo</th>\n",
       "      <th>Store</th>\n",
       "      <th>CompetitionDistance</th>\n",
       "      <th>Open</th>\n",
       "    </tr>\n",
       "  </thead>\n",
       "  <tbody>\n",
       "    <tr>\n",
       "      <th>0</th>\n",
       "      <td>5263.0</td>\n",
       "      <td>7</td>\n",
       "      <td>a</td>\n",
       "      <td>c</td>\n",
       "      <td>31</td>\n",
       "      <td>5</td>\n",
       "      <td>31</td>\n",
       "      <td>1</td>\n",
       "      <td>1</td>\n",
       "      <td>1270.0</td>\n",
       "      <td>1</td>\n",
       "    </tr>\n",
       "    <tr>\n",
       "      <th>1</th>\n",
       "      <td>6064.0</td>\n",
       "      <td>7</td>\n",
       "      <td>a</td>\n",
       "      <td>a</td>\n",
       "      <td>31</td>\n",
       "      <td>5</td>\n",
       "      <td>31</td>\n",
       "      <td>1</td>\n",
       "      <td>2</td>\n",
       "      <td>570.0</td>\n",
       "      <td>1</td>\n",
       "    </tr>\n",
       "    <tr>\n",
       "      <th>2</th>\n",
       "      <td>8314.0</td>\n",
       "      <td>7</td>\n",
       "      <td>a</td>\n",
       "      <td>a</td>\n",
       "      <td>31</td>\n",
       "      <td>5</td>\n",
       "      <td>31</td>\n",
       "      <td>1</td>\n",
       "      <td>3</td>\n",
       "      <td>14130.0</td>\n",
       "      <td>1</td>\n",
       "    </tr>\n",
       "    <tr>\n",
       "      <th>3</th>\n",
       "      <td>13995.0</td>\n",
       "      <td>7</td>\n",
       "      <td>c</td>\n",
       "      <td>c</td>\n",
       "      <td>31</td>\n",
       "      <td>5</td>\n",
       "      <td>31</td>\n",
       "      <td>1</td>\n",
       "      <td>4</td>\n",
       "      <td>620.0</td>\n",
       "      <td>1</td>\n",
       "    </tr>\n",
       "    <tr>\n",
       "      <th>4</th>\n",
       "      <td>4822.0</td>\n",
       "      <td>7</td>\n",
       "      <td>a</td>\n",
       "      <td>a</td>\n",
       "      <td>31</td>\n",
       "      <td>5</td>\n",
       "      <td>31</td>\n",
       "      <td>1</td>\n",
       "      <td>5</td>\n",
       "      <td>29910.0</td>\n",
       "      <td>1</td>\n",
       "    </tr>\n",
       "  </tbody>\n",
       "</table>\n",
       "</div>"
      ],
      "text/plain": [
       "     Sales  Month Assortment StoreType  WeekOfYear  DayOfWeek  DayOfMonth  \\\n",
       "0   5263.0      7          a         c          31          5          31   \n",
       "1   6064.0      7          a         a          31          5          31   \n",
       "2   8314.0      7          a         a          31          5          31   \n",
       "3  13995.0      7          c         c          31          5          31   \n",
       "4   4822.0      7          a         a          31          5          31   \n",
       "\n",
       "   Promo  Store  CompetitionDistance  Open  \n",
       "0      1      1               1270.0     1  \n",
       "1      1      2                570.0     1  \n",
       "2      1      3              14130.0     1  \n",
       "3      1      4                620.0     1  \n",
       "4      1      5              29910.0     1  "
      ]
     },
     "execution_count": 13,
     "metadata": {},
     "output_type": "execute_result"
    }
   ],
   "source": [
    "print(train_2[\"Sales\"].max())\n",
    "train_2.head()"
   ]
  },
  {
   "cell_type": "code",
   "execution_count": 27,
   "metadata": {},
   "outputs": [
    {
     "name": "stdout",
     "output_type": "stream",
     "text": [
      "       Assortment StoreType\n",
      "19985           a         d\n",
      "319281          a         a\n",
      "806307          b         b\n",
      "627634          a         a\n",
      "247427          a         a\n",
      "catagories successfully labeled\n",
      "        Assortment  StoreType\n",
      "19985            0          3\n",
      "319281           0          0\n",
      "806307           1          1\n",
      "627634           0          0\n",
      "247427           0          0\n",
      "Data successfully scaled\n",
      "target and features separated\n",
      "data successfully splitted\n",
      "prediction accuracy:  0.8509446809442563\n"
     ]
    }
   ],
   "source": [
    "# separating numerical and categorical variables\n",
    "\n",
    "categorical_lis2, numerical_lis2 = DT.sep_cat_num(train_2)\n",
    "\n",
    "sampled_train_cl2 = train_2.sample(n=60000)\n",
    "sets2, scaler = DT.build_pipe(categorical_lis2.columns.to_list()).fit_transform(sampled_train_cl2)\n",
    "\n",
    "# fitting data using Random Forest Regressor\n",
    "model2 = RandomForestRegressor(n_estimators = 85, random_state = 0)\n",
    " \n",
    "# fit the regressor with x and y data\n",
    "model2.fit(sets2[0], sets2[1])\n",
    "\n",
    "# checking accuracy\n",
    "accuracy2 = model2.score(sets2[2], sets2[3])\n",
    "print(\"prediction accuracy: \", accuracy2)\n"
   ]
  },
  {
   "cell_type": "code",
   "execution_count": 25,
   "metadata": {},
   "outputs": [
    {
     "data": {
      "image/png": "[encoded data removed]",
      "text/plain": [
       "<Figure size 1152x360 with 1 Axes>"
      ]
     },
     "metadata": {
      "needs_background": "light"
     },
     "output_type": "display_data"
    }
   ],
   "source": [
    "#features, target= DT.target_feature(train_cl, 0)\n",
    "imp_dict = DV.get_importance(model2, train_2)\n",
    "features = list(imp_dict.keys())\n",
    "importance = list(imp_dict.values())\n",
    "plt.figure(figsize=(16,5))\n",
    "pal = sns.color_palette(\"flare\", as_cmap=True)\n",
    "ax = sns.barplot(features, importance, color=\"darkgreen\")\n",
    "ax.invert_xaxis()\n",
    "locs, labels = plt.xticks()\n",
    "plt.setp(labels, rotation=45)\n",
    "plt.show()"
   ]
  },
  {
   "cell_type": "code",
   "execution_count": 28,
   "metadata": {},
   "outputs": [],
   "source": [
    "# datetime object containing current date and time\n",
    "now = datetime.now()\n",
    "time = now.strftime(\"%d-%m-%Y-%H-%M-%S\")\n",
    "filename = \"../models/RFR-sales-\"+str(time)+'.pkl'\n",
    "pickle.dump(model2, open(filename, 'wb'))\n",
    "# save the scaler\n",
    "pickle.dump(scaler, open('../models/scaler-'+time+'.pkl', 'wb'))"
   ]
  },
  {
   "cell_type": "code",
   "execution_count": null,
   "metadata": {},
   "outputs": [],
   "source": []
  },
  {
   "cell_type": "markdown",
   "metadata": {},
   "source": [
    "## Predicting number of customers"
   ]
  },
  {
   "cell_type": "code",
   "execution_count": 18,
   "metadata": {},
   "outputs": [],
   "source": [
    "## Removing irrelevant features and cusomer\n",
    "include_list2 = [\"Customers\", 'Month', 'PromoInterval', 'Assortment', 'StoreType','WeekOfYear', 'DayOfWeek', 'DayOfMonth', 'Promo', 'Store', 'CompetitionDistance', 'Open']\n",
    "train_3 = train[include_list2]"
   ]
  },
  {
   "cell_type": "code",
   "execution_count": 19,
   "metadata": {},
   "outputs": [
    {
     "name": "stdout",
     "output_type": "stream",
     "text": [
      "          PromoInterval Assortment StoreType\n",
      "374833           Not_Av          a         a\n",
      "85389   Jan,Apr,Jul,Oct          a         a\n",
      "823448           Not_Av          c         d\n",
      "357578  Jan,Apr,Jul,Oct          c         a\n",
      "38588            Not_Av          a         a\n",
      "catagories successfully labeled\n",
      "        PromoInterval  Assortment  StoreType\n",
      "374833              3           0          0\n",
      "85389               1           0          0\n",
      "823448              3           2          3\n",
      "357578              1           2          0\n",
      "38588               3           0          0\n",
      "Data successfully scaled\n",
      "target and features separated\n",
      "data successfully splitted\n",
      "prediction accuracy:  0.8994211029458226\n"
     ]
    }
   ],
   "source": [
    "# separating numerical and categorical variables\n",
    "\n",
    "categorical_lis3, numerical_lis3 = DT.sep_cat_num(train_3)\n",
    "\n",
    "sampled_train_cl3 = train_3.sample(n=100000)\n",
    "sets3, scaler = DT.build_pipe(categorical_lis3.columns.to_list()).fit_transform(sampled_train_cl3)\n",
    "\n",
    "# fitting data using Random Forest Regressor\n",
    "model3 = RandomForestRegressor(n_estimators = 100, random_state = 0)\n",
    " \n",
    "# fit the regressor with x and y data\n",
    "model3.fit(sets3[0], sets3[1])\n",
    "\n",
    "# checking accuracy\n",
    "accuracy3 = model3.score(sets3[2], sets3[3])\n",
    "print(\"prediction accuracy: \", accuracy3)"
   ]
  },
  {
   "cell_type": "code",
   "execution_count": 20,
   "metadata": {},
   "outputs": [
    {
     "data": {
      "image/png": "[encoded data removed]",
      "text/plain": [
       "<Figure size 1152x360 with 1 Axes>"
      ]
     },
     "metadata": {
      "needs_background": "light"
     },
     "output_type": "display_data"
    }
   ],
   "source": [
    "#features, target= DT.target_feature(train_cl, 0)\n",
    "imp_dict = DV.get_importance(model3, train_3)\n",
    "features = list(imp_dict.keys())\n",
    "importance = list(imp_dict.values())\n",
    "plt.figure(figsize=(16,5))\n",
    "pal = sns.color_palette(\"flare\", as_cmap=True)\n",
    "ax = sns.barplot(features, importance, color=\"darkgreen\",)\n",
    "ax.invert_xaxis()\n",
    "locs, labels = plt.xticks()\n",
    "plt.setp(labels, rotation=90)\n",
    "plt.show()"
   ]
  },
  {
   "cell_type": "code",
   "execution_count": 21,
   "metadata": {},
   "outputs": [
    {
     "ename": "FileNotFoundError",
     "evalue": "[Errno 2] No such file or directory: 'scaler../models/RFR-customers-27-05-2022-04-36-29.pkl.pkl'",
     "output_type": "error",
     "traceback": [
      "\u001b[1;31m---------------------------------------------------------------------------\u001b[0m",
      "\u001b[1;31mFileNotFoundError\u001b[0m                         Traceback (most recent call last)",
      "\u001b[1;32mc:\\Users\\IRONMAN\\10\\10x\\rossman_predictive_analysis\\notebooks\\machine_learning_modeling.ipynb Cell 26'\u001b[0m in \u001b[0;36m<cell line: 7>\u001b[1;34m()\u001b[0m\n\u001b[0;32m      <a href='vscode-notebook-cell:/c%3A/Users/IRONMAN/10/10x/rossman_predictive_analysis/notebooks/machine_learning_modeling.ipynb#ch0000024?line=4'>5</a>\u001b[0m pickle\u001b[39m.\u001b[39mdump(model2, \u001b[39mopen\u001b[39m(filename, \u001b[39m'\u001b[39m\u001b[39mwb\u001b[39m\u001b[39m'\u001b[39m))\n\u001b[0;32m      <a href='vscode-notebook-cell:/c%3A/Users/IRONMAN/10/10x/rossman_predictive_analysis/notebooks/machine_learning_modeling.ipynb#ch0000024?line=5'>6</a>\u001b[0m \u001b[39m# save the scaler\u001b[39;00m\n\u001b[1;32m----> <a href='vscode-notebook-cell:/c%3A/Users/IRONMAN/10/10x/rossman_predictive_analysis/notebooks/machine_learning_modeling.ipynb#ch0000024?line=6'>7</a>\u001b[0m pickle\u001b[39m.\u001b[39mdump(scaler, \u001b[39mopen\u001b[39;49m(\u001b[39m'\u001b[39;49m\u001b[39mscaler\u001b[39;49m\u001b[39m'\u001b[39;49m\u001b[39m+\u001b[39;49mfilename\u001b[39m+\u001b[39;49m\u001b[39m'\u001b[39;49m\u001b[39m.pkl\u001b[39;49m\u001b[39m'\u001b[39;49m, \u001b[39m'\u001b[39;49m\u001b[39mwb\u001b[39;49m\u001b[39m'\u001b[39;49m))\n",
      "\u001b[1;31mFileNotFoundError\u001b[0m: [Errno 2] No such file or directory: 'scaler../models/RFR-customers-27-05-2022-04-36-29.pkl.pkl'"
     ]
    }
   ],
   "source": [
    "# datetime object containing current date and time\n",
    "now = datetime.now()\n",
    "time = now.strftime(\"%d-%m-%Y-%H-%M-%S\")\n",
    "filename = \"../models/RFR-customers-\"+str(time)+'.pkl'\n",
    "pickle.dump(model2, open(filename, 'wb'))\n",
    "# save the scaler\n",
    "pickle.dump(scaler, open('scaler'+filename+'.pkl', 'wb'))"
   ]
  },
  {
   "cell_type": "code",
   "execution_count": null,
   "metadata": {},
   "outputs": [],
   "source": []
  }
 ],
 "metadata": {
  "interpreter": {
   "hash": "2b997b5b8794c030e25a28be498e8226ee8897df85ede9190db777bdc9cc75be"
  },
  "kernelspec": {
   "display_name": "Python 3.9.7 ('base')",
   "language": "python",
   "name": "python3"
  },
  "language_info": {
   "codemirror_mode": {
    "name": "ipython",
    "version": 3
   },
   "file_extension": ".py",
   "mimetype": "text/x-python",
   "name": "python",
   "nbconvert_exporter": "python",
   "pygments_lexer": "ipython3",
   "version": "3.9.7"
  },
  "orig_nbformat": 4
 },
 "nbformat": 4,
 "nbformat_minor": 2
}
