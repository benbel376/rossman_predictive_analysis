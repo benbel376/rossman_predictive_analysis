{
 "cells": [
  {
   "cell_type": "code",
   "execution_count": null,
   "metadata": {},
   "outputs": [],
   "source": [
    "from sklearn.pipeline import Pipeline\n",
    "from sklearn.preprocessing import FunctionTransformer\n",
    "import matplotlib.pyplot as plt\n",
    "import seaborn as sns\n",
    "import pandas as pd\n",
    "import numpy as np\n",
    "import warnings\n",
    "import sys"
   ]
  },
  {
   "cell_type": "code",
   "execution_count": null,
   "metadata": {},
   "outputs": [],
   "source": [
    "# suppressing warning messages\n",
    "warnings.filterwarnings('ignore')"
   ]
  },
  {
   "cell_type": "code",
   "execution_count": null,
   "metadata": {},
   "outputs": [],
   "source": [
    "# importing scripts\n",
    "sys.path.insert(1, '../scripts')\n",
    "\n",
    "from data_viz import Data_Viz\n",
    "from data_cleaning import DataCleaner\n",
    "from data_transformation import DataTransformer\n",
    "\n",
    "DV = Data_Viz(\"../logs/data_exp_notebook.log\")\n",
    "DC = DataCleaner(\"../logs/data_exp_notebook.log\")\n",
    "DT = DataTransformer(\"../logs/data_exp_notebook.log\")"
   ]
  },
  {
   "cell_type": "code",
   "execution_count": null,
   "metadata": {},
   "outputs": [],
   "source": [
    "# loading dataset\n",
    "\n",
    "test = pd.read_csv(\"../data/test_store.csv\")\n",
    "train = pd.read_csv(\"../data/train_store.csv\")"
   ]
  },
  {
   "cell_type": "markdown",
   "metadata": {},
   "source": [
    "# Univariate Analysis"
   ]
  },
  {
   "cell_type": "markdown",
   "metadata": {},
   "source": [
    "### Comparing distribution of the test and train dataset"
   ]
  },
  {
   "cell_type": "code",
   "execution_count": null,
   "metadata": {},
   "outputs": [],
   "source": [
    "sample_train = train.sample(n=41088, random_state= 5)\n",
    "promo_total = sample_train.shape[0]\n",
    "promo_yes = sample_train.loc[sample_train[\"Promo2\"] ==1].shape[0]\n",
    "promo_per = (promo_yes/promo_total)\n",
    "\n",
    "print(promo_per, promo_total, promo_yes)"
   ]
  },
  {
   "cell_type": "code",
   "execution_count": null,
   "metadata": {},
   "outputs": [],
   "source": [
    "DV.binom_distribution(promo_yes, promo_total, promo_per)"
   ]
  },
  {
   "cell_type": "code",
   "execution_count": null,
   "metadata": {},
   "outputs": [],
   "source": [
    "promo_total_t = test.shape[0]\n",
    "promo_yes_t = test.loc[test[\"Promo2\"] ==1].shape[0]\n",
    "promo_per_t = (promo_yes_t/promo_total_t)\n",
    "\n",
    "print(promo_per_t, promo_total_t, promo_yes_t)"
   ]
  },
  {
   "cell_type": "code",
   "execution_count": null,
   "metadata": {},
   "outputs": [],
   "source": [
    "DV.binom_distribution(promo_yes_t, promo_total_t, promo_per_t)"
   ]
  },
  {
   "cell_type": "code",
   "execution_count": null,
   "metadata": {},
   "outputs": [],
   "source": [
    "DV.compare_binom_dist(promo_yes, promo_yes_t, promo_total, promo_total_t, promo_per, promo_per_t)"
   ]
  },
  {
   "cell_type": "markdown",
   "metadata": {},
   "source": [
    "**Observation**\n",
    "- Both the test dataset and the train dataset have quite close distributions"
   ]
  },
  {
   "cell_type": "markdown",
   "metadata": {},
   "source": [
    "# Bivariate Analysis"
   ]
  },
  {
   "cell_type": "markdown",
   "metadata": {},
   "source": [
    "### Sales and Holidays"
   ]
  },
  {
   "cell_type": "code",
   "execution_count": 45,
   "metadata": {},
   "outputs": [
    {
     "data": {
      "image/png": "[encoded data removed]",
      "text/plain": [
       "<Figure size 864x288 with 2 Axes>"
      ]
     },
     "metadata": {
      "needs_background": "light"
     },
     "output_type": "display_data"
    }
   ],
   "source": [
    "# comparing holiday day sales with non Holiday ones\n",
    "\n",
    "holidays = train.loc[train[\"StateHoliday\"] != 'No Holiday']\n",
    "\n",
    "titles = ['Sales: Holidays vs. ordinary days', 'Sales during State Holidays']\n",
    "fig, (axis1,axis2) = plt.subplots(1,2,figsize=(12,4))\n",
    "sns.barplot(x=\"StateHoliday\", y=\"Sales\", data=train, ax=axis1).set_title(titles[0])\n",
    "sns.barplot(x=\"StateHoliday\", y=\"Sales\", data=holidays, ax=axis2).set_title(titles[1])\n",
    "plt.show()"
   ]
  },
  {
   "cell_type": "code",
   "execution_count": null,
   "metadata": {},
   "outputs": [],
   "source": [
    "# seasonality check\n",
    "plt.figure(figsize=(8,8))\n",
    "sns.barplot(x='Month', y='Sales', data=train)\n",
    "plt.show()"
   ]
  },
  {
   "cell_type": "code",
   "execution_count": null,
   "metadata": {},
   "outputs": [],
   "source": [
    "train[\"Date\"] = pd.to_datetime(train[\"Date\"])\n",
    "DV.summ_columns(train)"
   ]
  },
  {
   "cell_type": "code",
   "execution_count": null,
   "metadata": {},
   "outputs": [],
   "source": [
    "# easter's time sale in 2013\n",
    "\n",
    "train_filter = train[[\"Sales\", \"Date\"]]\n",
    "date_plot = train_filter.groupby([\"Date\"]).agg({\"Sales\": \"mean\"})\n",
    "\n",
    "plt.figure(figsize=(15, 3))\n",
    "sns.lineplot(x=\"Date\", y=\"Sales\", data=date_plot)\n",
    "plt.axvline(pd.Timestamp('2013-03-31'),color='r')\n",
    "plt.axvline(pd.Timestamp('2014-04-20'),color='r')\n",
    "plt.axvline(pd.Timestamp('2015-04-05'),color='r')\n",
    "plt.axvline(pd.Timestamp('2013-12-25'),color='y')\n",
    "plt.axvline(pd.Timestamp('2014-12-25'),color='y')\n",
    "plt.xticks(fontsize=14)\n",
    "plt.yticks(fontsize=14)\n",
    "plt.xlabel(xlabel=\"Date\", fontsize=16)\n",
    "plt.ylabel(ylabel=\"Sales\", fontsize=16)\n",
    "plt.show()\n",
    "\n"
   ]
  },
  {
   "cell_type": "markdown",
   "metadata": {},
   "source": [
    "**Observations**\n",
    "- comparing no holidays vs. state holidays the purchase during no holidays is more\n",
    "- comparing the purchase behavior between state holidays: public holidays have more purchase, while christmas has the least"
   ]
  },
  {
   "cell_type": "markdown",
   "metadata": {},
   "source": [
    "### Sales and Customers"
   ]
  },
  {
   "cell_type": "code",
   "execution_count": null,
   "metadata": {},
   "outputs": [],
   "source": [
    "sales_customers = train[['Sales', 'Customers']]\n",
    "plt.figure(figsize=(10,9))\n",
    "sns.heatmap(sales_customers.corr(), linewidths=0.1, vmax=1.0, \n",
    "            square=True, cmap=plt.cm.RdBu, linecolor='white', annot=True)"
   ]
  },
  {
   "cell_type": "markdown",
   "metadata": {},
   "source": [
    "**Observation**\n",
    "- There is a very high correlation between customers number and salesmm"
   ]
  },
  {
   "cell_type": "markdown",
   "metadata": {},
   "source": [
    "### Weekend Sales"
   ]
  },
  {
   "cell_type": "code",
   "execution_count": null,
   "metadata": {},
   "outputs": [],
   "source": [
    "# stores that are open on weekends\n",
    "\n",
    "closed_stores_df = train.loc[((train[\"Open\"] == 0) & (train[\"weekday\"] == 0))]\n",
    "\n",
    "closed_stores = closed_stores_df[\"Store\"].value_counts().index.to_list()\n",
    "stores_lis = train[\"Store\"].value_counts().index.to_list()\n",
    "open_stores = []\n",
    "\n",
    "for x in stores_lis: \n",
    "    if (x not in closed_stores):\n",
    "        open_stores.append(x)\n",
    "\n",
    "print(len(stores_lis), len(closed_stores))\n",
    "\n",
    "open_stores\n",
    "\n",
    "\n"
   ]
  },
  {
   "cell_type": "code",
   "execution_count": null,
   "metadata": {},
   "outputs": [],
   "source": [
    "open_stores_df = train.loc[train[\"Store\"].isin(open_stores)]\n",
    "closed_stores_df = train.loc[train[\"Store\"].isin(closed_stores)]\n",
    "\n",
    "# sales in the weekend\n",
    "\n",
    "print(\"per-store sales for open stores: \", (open_stores_df[\"Sales\"].mean()))\n",
    "print(\"Per-store sales for closed stores: \", (closed_stores_df[\"Sales\"].mean()))\n",
    "\n",
    "sales_weekday = {\"Stores\":[\"Open\", \"Closed\"], \"Sales\":[open_stores_df[\"Sales\"].mean(), closed_stores_df[\"Sales\"].mean()]}\n",
    "plt.figure(figsize=(8,8))\n",
    "sns.barplot(x = \"Stores\", y = \"Sales\", data= pd.DataFrame(sales_weekday))"
   ]
  },
  {
   "cell_type": "markdown",
   "metadata": {},
   "source": [
    "**Observation**\n",
    "- There are 10 Stores that are open on all weekdays\n",
    "- Those that are open on week days have better sale than those that aren't\n"
   ]
  },
  {
   "cell_type": "markdown",
   "metadata": {},
   "source": [
    "### Promotion and Sales"
   ]
  },
  {
   "cell_type": "code",
   "execution_count": null,
   "metadata": {},
   "outputs": [],
   "source": [
    "# salses count during promotion and without\n",
    "\n",
    "plt.figure(figsize=(8, 8))\n",
    "sns.barplot(x=\"Promo\", y=\"Sales\", data=train)\n"
   ]
  },
  {
   "cell_type": "markdown",
   "metadata": {},
   "source": [
    "**Observation**\n",
    "- Promotion Does affect sales as shown in the above plot"
   ]
  },
  {
   "cell_type": "markdown",
   "metadata": {},
   "source": [
    "### Promos and Customers"
   ]
  },
  {
   "cell_type": "code",
   "execution_count": null,
   "metadata": {},
   "outputs": [],
   "source": [
    "# checking average number of customers and existence of promotion\n",
    "\n",
    "plt.figure(figsize=(8, 8))\n",
    "sns.barplot(x=\"Promo\", y=\"Customers\", data=train)\n"
   ]
  },
  {
   "cell_type": "markdown",
   "metadata": {},
   "source": [
    "**Observation**\n",
    "- Promotion increases number of customersm"
   ]
  },
  {
   "cell_type": "markdown",
   "metadata": {},
   "source": [
    "### Assortment, customers, and Sales"
   ]
  },
  {
   "cell_type": "code",
   "execution_count": null,
   "metadata": {},
   "outputs": [],
   "source": [
    "\n",
    "fig, (axi1, axi2) = plt.subplots(1, 2, figsize=(15,5))\n",
    "sns.barplot(x=\"Assortment\", y=\"Sales\", data=train, ax=axi1).set_title(\"Salses per Assortment\")\n",
    "sns.barplot(x=\"Assortment\", y=\"Customers\", data=train, ax=axi2).set_title(\"Customers number per Assorttment\")\n",
    "plt.show()"
   ]
  },
  {
   "cell_type": "markdown",
   "metadata": {},
   "source": [
    "**Observation**\n",
    "- the 'b' assortment also called the extra class have the highest customer and sales."
   ]
  },
  {
   "cell_type": "markdown",
   "metadata": {},
   "source": [
    "### Promo deployment need"
   ]
  },
  {
   "cell_type": "code",
   "execution_count": null,
   "metadata": {},
   "outputs": [],
   "source": [
    "table = train.groupby([\"StoreType\"]).agg({\"Promo\": 'mean', \"Sales\": \"mean\"}).reset_index()\n",
    "table"
   ]
  },
  {
   "cell_type": "code",
   "execution_count": null,
   "metadata": {},
   "outputs": [],
   "source": [
    "fig, (axi1, axi2) = plt.subplots(1, 2, figsize=(15,5))\n",
    "sns.barplot(x=\"StoreType\", y=\"Promo\", data=table, ax=axi1).set_title(\"promotion by store type\")\n",
    "sns.barplot(x=\"StoreType\", y=\"Sales\", data=table, ax=axi2).set_title(\"Sales by store type\")\n",
    "plt.show()"
   ]
  },
  {
   "cell_type": "markdown",
   "metadata": {},
   "source": [
    "**Observation**\n",
    "- promotion distribution accross the storeTypes is similar. but D is slightly lower\n",
    "- So promos can be deployed more in d type stores but also in a and c."
   ]
  },
  {
   "cell_type": "markdown",
   "metadata": {},
   "source": [
    "### Competition distance and sales"
   ]
  },
  {
   "cell_type": "code",
   "execution_count": null,
   "metadata": {},
   "outputs": [],
   "source": [
    "table2 = train.groupby(\"Store\").agg({\"CompetitionDistance\": 'mean', \"Sales\": 'mean'})\n",
    "plt.figure(figsize=(8,8))\n",
    "sns.scatterplot(x=\"Sales\", y=\"CompetitionDistance\", data=table2).set_title(\"competition distance per sale\")\n",
    "plt.show()\n",
    "\n",
    "plt.figure(figsize=(10,8))\n",
    "sns.heatmap(table2.corr(), annot=True)\n",
    "plt.show()"
   ]
  },
  {
   "cell_type": "markdown",
   "metadata": {},
   "source": [
    "**Observation**\n",
    "- There is almost no significant positive or negative correlation between competition distance and salesm"
   ]
  },
  {
   "cell_type": "code",
   "execution_count": null,
   "metadata": {},
   "outputs": [],
   "source": [
    "###"
   ]
  }
 ],
 "metadata": {
  "interpreter": {
   "hash": "2b997b5b8794c030e25a28be498e8226ee8897df85ede9190db777bdc9cc75be"
  },
  "kernelspec": {
   "display_name": "Python 3.9.7 ('base')",
   "language": "python",
   "name": "python3"
  },
  "language_info": {
   "codemirror_mode": {
    "name": "ipython",
    "version": 3
   },
   "file_extension": ".py",
   "mimetype": "text/x-python",
   "name": "python",
   "nbconvert_exporter": "python",
   "pygments_lexer": "ipython3",
   "version": "3.9.7"
  },
  "orig_nbformat": 4
 },
 "nbformat": 4,
 "nbformat_minor": 2
}
