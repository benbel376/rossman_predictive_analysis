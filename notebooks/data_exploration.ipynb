{
 "cells": [
  {
   "cell_type": "code",
   "execution_count": 1,
   "metadata": {},
   "outputs": [],
   "source": [
    "from sklearn.pipeline import Pipeline\n",
    "from sklearn.preprocessing import FunctionTransformer\n",
    "import pandas as pd\n",
    "import numpy as np\n",
    "import warnings\n",
    "import sys"
   ]
  },
  {
   "cell_type": "code",
   "execution_count": null,
   "metadata": {},
   "outputs": [],
   "source": [
    "# suppressing warning messages\n",
    "warnings.filterwarnings('ignore')"
   ]
  },
  {
   "cell_type": "code",
   "execution_count": null,
   "metadata": {},
   "outputs": [],
   "source": [
    "# importing scripts\n",
    "sys.path.insert(1, '../scripts')\n",
    "\n",
    "from data_viz import Data_Viz\n",
    "from data_cleaning import DataCleaner\n",
    "from data_transformation import DataTransformer\n",
    "\n",
    "DV = Data_Viz()\n",
    "DC = DataCleaner()\n",
    "DT = DataTransformer()\n"
   ]
  },
  {
   "cell_type": "code",
   "execution_count": null,
   "metadata": {},
   "outputs": [],
   "source": [
    "# importing datasets\n",
    "\n",
    "sample = pd.read_csv(\"../data/sample_submission.csv\")\n",
    "store = pd.read_csv(\"../data/store.csv\")\n",
    "test = pd.read_csv(\"../data/test.csv\")\n",
    "train = pd.read_csv(\"../data/train.csv\")"
   ]
  },
  {
   "cell_type": "code",
   "execution_count": null,
   "metadata": {},
   "outputs": [],
   "source": [
    "# checking sample dataset\n",
    "print(sample.shape)\n",
    "DV.summ_columns(sample)"
   ]
  },
  {
   "cell_type": "code",
   "execution_count": null,
   "metadata": {},
   "outputs": [],
   "source": [
    "print(store.shape)\n",
    "DV.summ_columns(store)"
   ]
  },
  {
   "cell_type": "code",
   "execution_count": null,
   "metadata": {},
   "outputs": [],
   "source": [
    "# checking if the promo dates are 0 becuase promo2 is 0\n",
    "\n",
    "promo2_1_df = store.loc[store['Promo2'] == 1]\n",
    "DV.summ_columns(promo2_1_df)"
   ]
  },
  {
   "cell_type": "code",
   "execution_count": null,
   "metadata": {},
   "outputs": [],
   "source": [
    "store['PromoInterval'].value_counts()"
   ]
  },
  {
   "cell_type": "code",
   "execution_count": null,
   "metadata": {},
   "outputs": [],
   "source": [
    "# replacing empty values with 0 and NA\n",
    "store_clean = store.copy(deep=True)\n",
    "store_clean['Promo2SinceWeek'] = store['Promo2SinceWeek'].fillna(0)\n",
    "store_clean['Promo2SinceYear'] = store['Promo2SinceYear'].fillna(0)\n",
    "store_clean['PromoInterval'] = store['PromoInterval'].fillna('NA')"
   ]
  },
  {
   "cell_type": "code",
   "execution_count": null,
   "metadata": {},
   "outputs": [],
   "source": [
    "# removing columns with more than 30% missing value\n",
    "\n",
    "store_clean = DC.reduce_dim_missing(store_clean, 30)"
   ]
  },
  {
   "cell_type": "code",
   "execution_count": null,
   "metadata": {},
   "outputs": [],
   "source": [
    "# checking cleaned data \n",
    "\n",
    "DV.summ_columns(store_clean)"
   ]
  },
  {
   "cell_type": "code",
   "execution_count": null,
   "metadata": {},
   "outputs": [],
   "source": [
    "# merging datasets\n",
    "train_store = pd.merge(train, store_clean, how = 'left', on = \"Store\")\n",
    "test_store = pd.merge(test, store_clean, how='left', on = 'Store')"
   ]
  },
  {
   "cell_type": "code",
   "execution_count": null,
   "metadata": {},
   "outputs": [],
   "source": [
    "# checking store dataset\n",
    "print(train_store.shape)\n",
    "DV.summ_columns(train_store)"
   ]
  },
  {
   "cell_type": "code",
   "execution_count": null,
   "metadata": {},
   "outputs": [],
   "source": [
    "print(test_store.shape)\n",
    "DV.summ_columns(test_store)"
   ]
  },
  {
   "cell_type": "code",
   "execution_count": null,
   "metadata": {},
   "outputs": [],
   "source": [
    "# checking for outliers\n",
    "\n",
    "DV.plot_box2(train_store, ['Sales', 'Customers'])"
   ]
  },
  {
   "cell_type": "markdown",
   "metadata": {},
   "source": [
    "**Observation**\n",
    "- sales and customers have outliers"
   ]
  },
  {
   "cell_type": "code",
   "execution_count": null,
   "metadata": {},
   "outputs": [],
   "source": [
    "# a pipeline to handle missing values and outliers.\n",
    "pipe = Pipeline(steps=[ (\"Handle numerical missing values\", FunctionTransformer(DC.fill_missing_by_median)),\n",
    "                        (\"Handle categorical missing values\", FunctionTransformer(DC.fill_missing_by_mode)),\n",
    "                        (\"Handle outlier\", FunctionTransformer(DC.fill_outliers_mean, kw_args={'cols':['Sales', 'Customers']}))])"
   ]
  },
  {
   "cell_type": "code",
   "execution_count": null,
   "metadata": {},
   "outputs": [],
   "source": [
    "# running the train dataset in the cleaning pipe\n",
    "\n",
    "train_store_clean = pipe.fit_transform(train_store)\n",
    "\n",
    "DV.summ_columns(train_store_clean)"
   ]
  },
  {
   "cell_type": "code",
   "execution_count": null,
   "metadata": {},
   "outputs": [],
   "source": [
    "# checking if outliers are handled\n",
    "\n",
    "DV.plot_box2(train_store_clean, ['Sales', 'Customers'])"
   ]
  },
  {
   "cell_type": "code",
   "execution_count": null,
   "metadata": {},
   "outputs": [],
   "source": [
    "# saving cleaned dataframes\n",
    "\n",
    "train_store_clean.to_csv(\"../data/train_store.csv\", index = False)\n",
    "train_store_clean.to_csv(\"../data/test_store.csv\", index = False)"
   ]
  },
  {
   "cell_type": "code",
   "execution_count": null,
   "metadata": {},
   "outputs": [],
   "source": []
  }
 ],
 "metadata": {
  "interpreter": {
   "hash": "2b997b5b8794c030e25a28be498e8226ee8897df85ede9190db777bdc9cc75be"
  },
  "kernelspec": {
   "display_name": "Python 3.9.7 ('base')",
   "language": "python",
   "name": "python3"
  },
  "language_info": {
   "codemirror_mode": {
    "name": "ipython",
    "version": 3
   },
   "file_extension": ".py",
   "mimetype": "text/x-python",
   "name": "python",
   "nbconvert_exporter": "python",
   "pygments_lexer": "ipython3",
   "version": "3.9.7"
  },
  "orig_nbformat": 4
 },
 "nbformat": 4,
 "nbformat_minor": 2
}
